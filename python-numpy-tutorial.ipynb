{
 "cells": [
  {
   "cell_type": "markdown",
   "metadata": {},
   "source": [
    "# python与numpy基础"
   ]
  },
  {
   "cell_type": "markdown",
   "metadata": {},
   "source": [
    "## Numpy"
   ]
  },
  {
   "cell_type": "markdown",
   "metadata": {},
   "source": [
    "我们要开始接触高效计算库Numpy了，你要是之前在实验室用MATLAB之类的语法，你会发现Numpy和它们长得不要太像，爱MATLAB的同学，参考文档可以看[这里](http://wiki.scipy.org/NumPy_for_Matlab_Users)\n",
    "\n",
    "Numpy是Python语言的一个扩充"
   ]
  },
  {
   "cell_type": "markdown",
   "metadata": {},
   "source": [
    "python里面调用一个包，用import对吧, 所以我们import `numpy` 包:"
   ]
  },
  {
   "cell_type": "code",
   "execution_count": 1,
   "metadata": {
    "collapsed": true
   },
   "outputs": [],
   "source": [
    "import numpy as np"
   ]
  },
  {
   "cell_type": "markdown",
   "metadata": {},
   "source": [
    "### Arrays/数组"
   ]
  },
  {
   "cell_type": "markdown",
   "metadata": {},
   "source": [
    "看你数组的维度啦，我自己的话比较简单粗暴，一般直接把1维数组就看做向量/vector，2维数组看做2维矩阵，3维数组看做3维矩阵..."
   ]
  },
  {
   "cell_type": "markdown",
   "metadata": {},
   "source": [
    "可以调用np.array去从list初始化一个数组:"
   ]
  },
  {
   "cell_type": "code",
   "execution_count": 3,
   "metadata": {},
   "outputs": [
    {
     "name": "stdout",
     "output_type": "stream",
     "text": [
      "<class 'numpy.ndarray'> (3,) 1 2 3\n",
      "[5 2 3]\n"
     ]
    }
   ],
   "source": [
    "a = np.array([1, 2, 3])  # 1维数组\n",
    "print(type(a), a.shape, a[0], a[1], a[2])\n",
    "a[0] = 5                 # 重新赋值\n",
    "print(a)            "
   ]
  },
  {
   "cell_type": "code",
   "execution_count": 4,
   "metadata": {},
   "outputs": [
    {
     "name": "stdout",
     "output_type": "stream",
     "text": [
      "[[1 2 3]\n",
      " [4 5 6]]\n"
     ]
    }
   ],
   "source": [
    "b = np.array([[1,2,3],[4,5,6]])   # 2维数组\n",
    "print(b)"
   ]
  },
  {
   "cell_type": "code",
   "execution_count": 5,
   "metadata": {},
   "outputs": [
    {
     "name": "stdout",
     "output_type": "stream",
     "text": [
      "(2, 3)\n",
      "1 2 4\n"
     ]
    }
   ],
   "source": [
    "print(b.shape)  #可以看形状的（非常常用！！！）                  \n",
    "print(b[0, 0], b[0, 1], b[1, 0])"
   ]
  },
  {
   "cell_type": "markdown",
   "metadata": {},
   "source": [
    "有一些内置的创建数组的函数:"
   ]
  },
  {
   "cell_type": "code",
   "execution_count": 6,
   "metadata": {},
   "outputs": [
    {
     "name": "stdout",
     "output_type": "stream",
     "text": [
      "[[ 0.  0.]\n",
      " [ 0.  0.]]\n"
     ]
    }
   ],
   "source": [
    "a = np.zeros((2,2))  # 创建2x2的全0数组\n",
    "print(a)"
   ]
  },
  {
   "cell_type": "code",
   "execution_count": 9,
   "metadata": {},
   "outputs": [
    {
     "name": "stdout",
     "output_type": "stream",
     "text": [
      "[[ 1.  1.]]\n"
     ]
    }
   ],
   "source": [
    "b = np.ones((1,2))   # 创建1x2的全1数组\n",
    "print(b)"
   ]
  },
  {
   "cell_type": "code",
   "execution_count": 10,
   "metadata": {},
   "outputs": [
    {
     "name": "stdout",
     "output_type": "stream",
     "text": [
      "[[7 7]\n",
      " [7 7]]\n"
     ]
    }
   ],
   "source": [
    "c = np.full((2,2), 7) # 定值数组\n",
    "print(c) "
   ]
  },
  {
   "cell_type": "code",
   "execution_count": 11,
   "metadata": {},
   "outputs": [
    {
     "name": "stdout",
     "output_type": "stream",
     "text": [
      "[[ 1.  0.]\n",
      " [ 0.  1.]]\n"
     ]
    }
   ],
   "source": [
    "d = np.eye(2)        # 对角矩阵（对角元素为1）\n",
    "print(d)"
   ]
  },
  {
   "cell_type": "code",
   "execution_count": 47,
   "metadata": {},
   "outputs": [
    {
     "name": "stdout",
     "output_type": "stream",
     "text": [
      "[[ 0.72776966  0.94164821]\n",
      " [ 0.04652655  0.2316599 ]]\n"
     ]
    }
   ],
   "source": [
    "e = np.random.random((2,2)) # 2x2的随机数组(矩阵)\n",
    "print(e)"
   ]
  },
  {
   "cell_type": "code",
   "execution_count": 52,
   "metadata": {},
   "outputs": [
    {
     "name": "stdout",
     "output_type": "stream",
     "text": [
      "[[[ 0.  0.]\n",
      "  [ 0.  0.]\n",
      "  [ 0.  0.]]\n",
      "\n",
      " [[ 0.  0.]\n",
      "  [ 0.  0.]\n",
      "  [ 0.  0.]]]\n",
      "(2, 3, 2)\n"
     ]
    }
   ],
   "source": [
    "f = np.empty((2,3,2)) # empty是未初始化的数据，默认为0\n",
    "print(f)\n",
    "print(f.shape)"
   ]
  },
  {
   "cell_type": "code",
   "execution_count": 56,
   "metadata": {},
   "outputs": [
    {
     "name": "stdout",
     "output_type": "stream",
     "text": [
      "[ 0  1  2  3  4  5  6  7  8  9 10 11 12 13 14]\n",
      "(15,)\n"
     ]
    }
   ],
   "source": [
    "g = np.arange(15) # 用arange可以生成连续的一串元素\n",
    "print(g)\n",
    "print(g.shape)"
   ]
  },
  {
   "cell_type": "markdown",
   "metadata": {},
   "source": [
    "数组可以有不同的数据类型"
   ]
  },
  {
   "cell_type": "markdown",
   "metadata": {},
   "source": [
    "生成数组时可以指定数据类型，如果不指定numpy会自动匹配合适的类型"
   ]
  },
  {
   "cell_type": "code",
   "execution_count": 59,
   "metadata": {},
   "outputs": [
    {
     "name": "stdout",
     "output_type": "stream",
     "text": [
      "float64\n"
     ]
    }
   ],
   "source": [
    "arr = np.array([1,2,3], dtype=np.float64)\n",
    "print(arr.dtype)"
   ]
  },
  {
   "cell_type": "code",
   "execution_count": 61,
   "metadata": {},
   "outputs": [
    {
     "name": "stdout",
     "output_type": "stream",
     "text": [
      "int32\n"
     ]
    }
   ],
   "source": [
    "arr = np.array([1,2,3], dtype=np.int32)\n",
    "print(arr.dtype)"
   ]
  },
  {
   "cell_type": "markdown",
   "metadata": {},
   "source": [
    "使用astype复制数组并转换数据类型"
   ]
  },
  {
   "cell_type": "code",
   "execution_count": 65,
   "metadata": {},
   "outputs": [
    {
     "name": "stdout",
     "output_type": "stream",
     "text": [
      "int32\n",
      "float64\n"
     ]
    }
   ],
   "source": [
    "int_arr = np.array([1,2,3,4,5])\n",
    "float_arr = int_arr.astype(np.float)\n",
    "print(int_arr.dtype)\n",
    "print(float_arr.dtype)"
   ]
  },
  {
   "cell_type": "markdown",
   "metadata": {},
   "source": [
    "使用astype将float转换为int时小数部分被舍弃"
   ]
  },
  {
   "cell_type": "code",
   "execution_count": 68,
   "metadata": {},
   "outputs": [
    {
     "name": "stdout",
     "output_type": "stream",
     "text": [
      "[ 3 -1 -2  0 12 10]\n"
     ]
    }
   ],
   "source": [
    "float_arr = np.array([3.7, -1.2, -2.6, 0.5, 12.9, 10.1])\n",
    "int_arr = float_arr.astype(dtype = np.int)\n",
    "print(int_arr)"
   ]
  },
  {
   "cell_type": "markdown",
   "metadata": {},
   "source": [
    "使用astype把字符串转换为数组，如果失败抛出异常。"
   ]
  },
  {
   "cell_type": "code",
   "execution_count": 70,
   "metadata": {},
   "outputs": [
    {
     "name": "stdout",
     "output_type": "stream",
     "text": [
      "[  1.25  -9.6   42.  ]\n"
     ]
    }
   ],
   "source": [
    "str_arr = np.array(['1.25', '-9.6', '42'], dtype = np.string_)\n",
    "float_arr = str_arr.astype(dtype = np.float)\n",
    "print(float_arr)"
   ]
  },
  {
   "cell_type": "markdown",
   "metadata": {},
   "source": [
    "astype使用其它数组的数据类型作为参数"
   ]
  },
  {
   "cell_type": "code",
   "execution_count": 71,
   "metadata": {},
   "outputs": [
    {
     "name": "stdout",
     "output_type": "stream",
     "text": [
      "[ 0.  1.  2.  3.  4.  5.  6.  7.  8.  9.]\n",
      "0 1\n"
     ]
    }
   ],
   "source": [
    "int_arr = np.arange(10)\n",
    "float_arr = np.array([.23, 0.270, .357, 0.44, 0.5], dtype = np.float64)\n",
    "print(int_arr.astype(float_arr.dtype))\n",
    "print(int_arr[0], int_arr[1])"
   ]
  },
  {
   "cell_type": "markdown",
   "metadata": {},
   "source": [
    "### Array indexing/数组取值"
   ]
  },
  {
   "cell_type": "markdown",
   "metadata": {},
   "source": [
    "Numpy提供了蛮多种取值的方式的."
   ]
  },
  {
   "cell_type": "markdown",
   "metadata": {},
   "source": [
    "可以像list一样切片（多维数组可以从各个维度同时切片）:"
   ]
  },
  {
   "cell_type": "code",
   "execution_count": 203,
   "metadata": {},
   "outputs": [
    {
     "name": "stdout",
     "output_type": "stream",
     "text": [
      "[[2 3]\n",
      " [6 7]]\n"
     ]
    }
   ],
   "source": [
    "import numpy as np\n",
    "\n",
    "# 创建一个如下格式的3x4数组\n",
    "# [[ 1  2  3  4]\n",
    "#  [ 5  6  7  8]\n",
    "#  [ 9 10 11 12]]\n",
    "a = np.array([[1,2,3,4], [5,6,7,8], [9,10,11,12]])\n",
    "\n",
    "# 在两个维度上分别按照[:2]和[1:3]进行切片，取需要的部分\n",
    "# [[2 3]\n",
    "#  [6 7]]\n",
    "b = a[:2, 1:3]\n",
    "print b"
   ]
  },
  {
   "cell_type": "markdown",
   "metadata": {},
   "source": [
    "虽然，怎么说呢，不建议你这样去赋值，但是你确实可以修改切片出来的对象，然后完成对原数组的赋值."
   ]
  },
  {
   "cell_type": "code",
   "execution_count": 13,
   "metadata": {},
   "outputs": [
    {
     "name": "stdout",
     "output_type": "stream",
     "text": [
      "0.0\n",
      "0.0\n"
     ]
    }
   ],
   "source": [
    "print(a[0, 1])  \n",
    "b[0, 0] = 77    # b[0, 0]改了，很遗憾a[0, 1]也被修改了\n",
    "print(a[0, 1])"
   ]
  },
  {
   "cell_type": "code",
   "execution_count": 14,
   "metadata": {},
   "outputs": [
    {
     "name": "stdout",
     "output_type": "stream",
     "text": [
      "[[ 1  2  3  4]\n",
      " [ 5  6  7  8]\n",
      " [ 9 10 11 12]]\n"
     ]
    }
   ],
   "source": [
    "# 创建3x4的2维数组/矩阵\n",
    "a = np.array([[1,2,3,4], [5,6,7,8], [9,10,11,12]])\n",
    "print(a)"
   ]
  },
  {
   "cell_type": "markdown",
   "metadata": {},
   "source": [
    "你就放心大胆地去取你想要的数咯:"
   ]
  },
  {
   "cell_type": "code",
   "execution_count": 15,
   "metadata": {},
   "outputs": [
    {
     "name": "stdout",
     "output_type": "stream",
     "text": [
      "[5 6 7 8] (4,)\n",
      "[[5 6 7 8]] (1, 4)\n",
      "[[5 6 7 8]] (1, 4)\n"
     ]
    }
   ],
   "source": [
    "row_r1 = a[1, :]    # 第2行，但是得到的是1维输出（列向量）\n",
    "row_r2 = a[1:2, :]  # 1x2的2维输出\n",
    "row_r3 = a[[1], :]  # 同上\n",
    "print(row_r1, row_r1.shape)\n",
    "print(row_r2, row_r2.shape)\n",
    "print(row_r3, row_r3.shape)"
   ]
  },
  {
   "cell_type": "code",
   "execution_count": 17,
   "metadata": {},
   "outputs": [
    {
     "name": "stdout",
     "output_type": "stream",
     "text": [
      "[ 2  6 10] (3,)\n",
      "\n",
      "[[ 2]\n",
      " [ 6]\n",
      " [10]] (3, 1)\n"
     ]
    }
   ],
   "source": [
    "# 试试在第2个维度上切片也一样的:\n",
    "col_r1 = a[:, 1]\n",
    "col_r2 = a[:, 1:2]\n",
    "print(col_r1, col_r1.shape)\n",
    "print()\n",
    "print(col_r2, col_r2.shape)"
   ]
  },
  {
   "cell_type": "markdown",
   "metadata": {},
   "source": [
    "下面这个高级了，更自由地取值和组合，但是要看清楚一点:"
   ]
  },
  {
   "cell_type": "code",
   "execution_count": 18,
   "metadata": {},
   "outputs": [
    {
     "name": "stdout",
     "output_type": "stream",
     "text": [
      "[1 4 5]\n",
      "[1 4 5]\n"
     ]
    }
   ],
   "source": [
    "a = np.array([[1,2], [3, 4], [5, 6]])\n",
    "\n",
    "# 其实意思就是取(0,0),(1,1),(2,0)的元素组起来\n",
    "print(a[[0, 1, 2], [0, 1, 0]])\n",
    "\n",
    "# 下面这个比较直白啦\n",
    "print(np.array([a[0, 0], a[1, 1], a[2, 0]]))"
   ]
  },
  {
   "cell_type": "code",
   "execution_count": 19,
   "metadata": {},
   "outputs": [
    {
     "name": "stdout",
     "output_type": "stream",
     "text": [
      "[2 2]\n",
      "[2 2]\n"
     ]
    }
   ],
   "source": [
    "# 再来试试\n",
    "print(a[[0, 0], [1, 1]])\n",
    "\n",
    "# 还是一样\n",
    "print(np.array([a[0, 1], a[0, 1]]))"
   ]
  },
  {
   "cell_type": "code",
   "execution_count": 20,
   "metadata": {},
   "outputs": [
    {
     "name": "stdout",
     "output_type": "stream",
     "text": [
      "[[ 1  2  3]\n",
      " [ 4  5  6]\n",
      " [ 7  8  9]\n",
      " [10 11 12]]\n"
     ]
    }
   ],
   "source": [
    "# 再来熟悉一下\n",
    "# 先创建一个2维数组\n",
    "a = np.array([[1,2,3], [4,5,6], [7,8,9], [10, 11, 12]])\n",
    "print(a)"
   ]
  },
  {
   "cell_type": "code",
   "execution_count": 21,
   "metadata": {},
   "outputs": [
    {
     "name": "stdout",
     "output_type": "stream",
     "text": [
      "[ 1  6  7 11]\n"
     ]
    }
   ],
   "source": [
    "# 用下标生成一个向量\n",
    "b = np.array([0, 2, 0, 1])\n",
    "\n",
    "# 你能看明白下面做的事情吗？\n",
    "print(a[np.arange(4), b])  # Prints \"[ 1  6  7 11]\""
   ]
  },
  {
   "cell_type": "code",
   "execution_count": 22,
   "metadata": {},
   "outputs": [
    {
     "name": "stdout",
     "output_type": "stream",
     "text": [
      "[[11  2  3]\n",
      " [ 4  5 16]\n",
      " [17  8  9]\n",
      " [10 21 12]]\n"
     ]
    }
   ],
   "source": [
    "# 既然可以取出来，我们当然可以对这些元素操作咯\n",
    "a[np.arange(4), b] += 10\n",
    "print(a)"
   ]
  },
  {
   "cell_type": "markdown",
   "metadata": {},
   "source": [
    "比较fashion的取法之一，用条件判定去取（但是很好用）:"
   ]
  },
  {
   "cell_type": "code",
   "execution_count": 23,
   "metadata": {},
   "outputs": [
    {
     "name": "stdout",
     "output_type": "stream",
     "text": [
      "[[False False]\n",
      " [ True  True]\n",
      " [ True  True]]\n"
     ]
    }
   ],
   "source": [
    "a = np.array([[1,2], [3, 4], [5, 6]])\n",
    "\n",
    "bool_idx = (a > 2)  # 就是判定一下是否大于2\n",
    "\n",
    "print(bool_idx)  # 返回一个布尔型的3x2数组"
   ]
  },
  {
   "cell_type": "code",
   "execution_count": 24,
   "metadata": {},
   "outputs": [
    {
     "name": "stdout",
     "output_type": "stream",
     "text": [
      "[3 4 5 6]\n",
      "[3 4 5 6]\n"
     ]
    }
   ],
   "source": [
    "# 用刚才的布尔型数组作为下标就可以去除符合条件的元素啦\n",
    "print(a[bool_idx])\n",
    "\n",
    "# 其实一句话也可以完成是不是？\n",
    "print(a[a > 2])"
   ]
  },
  {
   "cell_type": "markdown",
   "metadata": {},
   "source": [
    "那个，真的，其实还有很多细节，其他的方式去取值，你可以看看官方文档。"
   ]
  },
  {
   "cell_type": "markdown",
   "metadata": {},
   "source": [
    "我们一起来来总结一下，看下面切片取值方式（对应颜色是取出来的结果）："
   ]
  },
  {
   "cell_type": "markdown",
   "metadata": {},
   "source": [
    "![](http://old.sebug.net/paper/books/scipydoc/_images/numpy_intro_02.png)\n",
    "![](http://old.sebug.net/paper/books/scipydoc/_images/numpy_intro_03.png)"
   ]
  },
  {
   "cell_type": "markdown",
   "metadata": {},
   "source": [
    "### Datatypes"
   ]
  },
  {
   "cell_type": "markdown",
   "metadata": {},
   "source": [
    "我们可以用dtype来看numpy数组中元素的类型:"
   ]
  },
  {
   "cell_type": "code",
   "execution_count": 25,
   "metadata": {},
   "outputs": [
    {
     "name": "stdout",
     "output_type": "stream",
     "text": [
      "int32 float64 int64\n"
     ]
    }
   ],
   "source": [
    "x = np.array([1, 2])  # numpy构建数组的时候自己会确定类型\n",
    "y = np.array([1.0, 2.0])\n",
    "z = np.array([1, 2], dtype=np.int64)# 指定用int64构建\n",
    "\n",
    "print(x.dtype, y.dtype, z.dtype)"
   ]
  },
  {
   "cell_type": "markdown",
   "metadata": {},
   "source": [
    "更多的内容可以读读[文档](http://docs.scipy.org/doc/numpy/reference/arrays.dtypes.html)."
   ]
  },
  {
   "cell_type": "markdown",
   "metadata": {},
   "source": [
    "### 数学运算"
   ]
  },
  {
   "cell_type": "markdown",
   "metadata": {},
   "source": [
    "下面这些运算才是你在科学运算中经常经常会用到的，比如逐个元素的运算如下:"
   ]
  },
  {
   "cell_type": "code",
   "execution_count": 26,
   "metadata": {},
   "outputs": [
    {
     "name": "stdout",
     "output_type": "stream",
     "text": [
      "[[  6.   8.]\n",
      " [ 10.  12.]]\n",
      "[[  6.   8.]\n",
      " [ 10.  12.]]\n"
     ]
    }
   ],
   "source": [
    "x = np.array([[1,2],[3,4]], dtype=np.float64)\n",
    "y = np.array([[5,6],[7,8]], dtype=np.float64)\n",
    "\n",
    "# 逐元素求和有下面2种方式\n",
    "print(x + y)\n",
    "print(np.add(x, y))"
   ]
  },
  {
   "cell_type": "code",
   "execution_count": 27,
   "metadata": {},
   "outputs": [
    {
     "name": "stdout",
     "output_type": "stream",
     "text": [
      "[[-4. -4.]\n",
      " [-4. -4.]]\n",
      "[[-4. -4.]\n",
      " [-4. -4.]]\n"
     ]
    }
   ],
   "source": [
    "# 逐元素作差\n",
    "print(x - y)\n",
    "print(np.subtract(x, y))"
   ]
  },
  {
   "cell_type": "code",
   "execution_count": 28,
   "metadata": {},
   "outputs": [
    {
     "name": "stdout",
     "output_type": "stream",
     "text": [
      "[[  5.  12.]\n",
      " [ 21.  32.]]\n",
      "[[  5.  12.]\n",
      " [ 21.  32.]]\n"
     ]
    }
   ],
   "source": [
    "# 逐元素相乘\n",
    "print(x * y)\n",
    "print(np.multiply(x, y))"
   ]
  },
  {
   "cell_type": "code",
   "execution_count": 29,
   "metadata": {},
   "outputs": [
    {
     "name": "stdout",
     "output_type": "stream",
     "text": [
      "[[ 0.2         0.33333333]\n",
      " [ 0.42857143  0.5       ]]\n",
      "[[ 0.2         0.33333333]\n",
      " [ 0.42857143  0.5       ]]\n"
     ]
    }
   ],
   "source": [
    "# 逐元素相除\n",
    "# [[ 0.2         0.33333333]\n",
    "#  [ 0.42857143  0.5       ]]\n",
    "print(x / y)\n",
    "print(np.divide(x, y))"
   ]
  },
  {
   "cell_type": "code",
   "execution_count": 30,
   "metadata": {},
   "outputs": [
    {
     "name": "stdout",
     "output_type": "stream",
     "text": [
      "[[ 1.          1.41421356]\n",
      " [ 1.73205081  2.        ]]\n"
     ]
    }
   ],
   "source": [
    "# 逐元素求平方根！！！\n",
    "# [[ 1.          1.41421356]\n",
    "#  [ 1.73205081  2.        ]]\n",
    "print(np.sqrt(x))"
   ]
  },
  {
   "cell_type": "markdown",
   "metadata": {},
   "source": [
    "那如果我要做矩阵的乘法运算怎么办！！！恩，别着急，照着下面写就可以了:"
   ]
  },
  {
   "cell_type": "code",
   "execution_count": 81,
   "metadata": {},
   "outputs": [
    {
     "name": "stdout",
     "output_type": "stream",
     "text": [
      "219\n",
      "219\n"
     ]
    }
   ],
   "source": [
    "x = np.array([[1,2],[3,4]])\n",
    "y = np.array([[5,6],[7,8]])\n",
    "\n",
    "v = np.array([9,10])\n",
    "w = np.array([11, 12])\n",
    "\n",
    "# 求向量内积\n",
    "print(v.dot(w))\n",
    "print(np.dot(v, w))"
   ]
  },
  {
   "cell_type": "code",
   "execution_count": 80,
   "metadata": {},
   "outputs": [
    {
     "name": "stdout",
     "output_type": "stream",
     "text": [
      "[14 32]\n",
      "[14 32]\n"
     ]
    }
   ],
   "source": [
    "# 矩阵的乘法\n",
    "print(x.dot(v))\n",
    "print(np.dot(x, v))"
   ]
  },
  {
   "cell_type": "code",
   "execution_count": 82,
   "metadata": {},
   "outputs": [
    {
     "name": "stdout",
     "output_type": "stream",
     "text": [
      "[[19 22]\n",
      " [43 50]]\n",
      "[[19 22]\n",
      " [43 50]]\n"
     ]
    }
   ],
   "source": [
    "# 矩阵的乘法\n",
    "# [[19 22]\n",
    "#  [43 50]]\n",
    "print(x.dot(y))\n",
    "print(np.dot(x, y))"
   ]
  },
  {
   "cell_type": "code",
   "execution_count": 84,
   "metadata": {},
   "outputs": [
    {
     "name": "stdout",
     "output_type": "stream",
     "text": [
      "[[ 6.15893615  0.37567871 -0.87041748]\n",
      " [ 0.37567871  5.91307228 -3.8307972 ]\n",
      " [-0.87041748 -3.8307972   4.44880351]]\n"
     ]
    }
   ],
   "source": [
    "# 利用转置矩阵做dot product\n",
    "arr = np.random.randn(6,3)\n",
    "print(np.dot(arr.T, arr))"
   ]
  },
  {
   "cell_type": "markdown",
   "metadata": {},
   "source": [
    "高维的tensor也可以做转置"
   ]
  },
  {
   "cell_type": "code",
   "execution_count": 86,
   "metadata": {},
   "outputs": [
    {
     "name": "stdout",
     "output_type": "stream",
     "text": [
      "[[[ 0  1  2  3]\n",
      "  [ 4  5  6  7]]\n",
      "\n",
      " [[ 8  9 10 11]\n",
      "  [12 13 14 15]]]\n"
     ]
    }
   ],
   "source": [
    "arr = np.arange(16).reshape((2, 2, 4))\n",
    "print(arr)"
   ]
  },
  {
   "cell_type": "code",
   "execution_count": 88,
   "metadata": {},
   "outputs": [
    {
     "name": "stdout",
     "output_type": "stream",
     "text": [
      "[[[ 0  1  2  3]\n",
      "  [ 8  9 10 11]]\n",
      "\n",
      " [[ 4  5  6  7]\n",
      "  [12 13 14 15]]]\n"
     ]
    }
   ],
   "source": [
    "print(arr.transpose((1,0,2)))"
   ]
  },
  {
   "cell_type": "code",
   "execution_count": 89,
   "metadata": {},
   "outputs": [
    {
     "name": "stdout",
     "output_type": "stream",
     "text": [
      "[[[ 0  4]\n",
      "  [ 1  5]\n",
      "  [ 2  6]\n",
      "  [ 3  7]]\n",
      "\n",
      " [[ 8 12]\n",
      "  [ 9 13]\n",
      "  [10 14]\n",
      "  [11 15]]]\n"
     ]
    }
   ],
   "source": [
    "print(arr.swapaxes(1,2))"
   ]
  },
  {
   "cell_type": "markdown",
   "metadata": {},
   "source": [
    "你猜你做科学运算会最常用到的矩阵内元素的运算是什么？对啦，是求和，用 `sum`可以完成:"
   ]
  },
  {
   "cell_type": "code",
   "execution_count": 99,
   "metadata": {},
   "outputs": [
    {
     "name": "stdout",
     "output_type": "stream",
     "text": [
      "10\n",
      "[4 6]\n",
      "[3 7]\n"
     ]
    }
   ],
   "source": [
    "x = np.array([[1,2],[3,4]])\n",
    "\n",
    "print(np.sum(x))  # 数组/矩阵中所有元素求和; prints \"10\"\n",
    "print(np.sum(x, axis=0))  # 按行去求和; prints \"[4 6]\"\n",
    "print(np.sum(x, axis=1))  # 按列去求和; prints \"[3 7]\""
   ]
  },
  {
   "cell_type": "markdown",
   "metadata": {},
   "source": [
    "还有一些其他我们可以想到的运算，比如求和，求平均，求cumulative sum，sumulative product用numpy都可以做到"
   ]
  },
  {
   "cell_type": "code",
   "execution_count": 101,
   "metadata": {},
   "outputs": [
    {
     "name": "stdout",
     "output_type": "stream",
     "text": [
      "2.5\n",
      "[ 2.  3.]\n",
      "[ 1.5  3.5]\n",
      "[[1 2]\n",
      " [4 6]]\n",
      "[[ 1  2]\n",
      " [ 3 12]]\n"
     ]
    }
   ],
   "source": [
    "print(np.mean(x))\n",
    "print(np.mean(x, axis=0))\n",
    "print(np.mean(x, axis=1))\n",
    "print(x.cumsum(axis=0))\n",
    "print(x.cumprod(axis=1))"
   ]
  },
  {
   "cell_type": "markdown",
   "metadata": {},
   "source": [
    "我想说最基本的运算就是上面这个样子，更多的运算可能得查查[文档](http://docs.scipy.org/doc/numpy/reference/routines.math.html).\n",
    "\n",
    "其实除掉基本运算，我们经常还需要做一些操作，比如矩阵的变形，转置和重排等等:"
   ]
  },
  {
   "cell_type": "code",
   "execution_count": 35,
   "metadata": {},
   "outputs": [
    {
     "name": "stdout",
     "output_type": "stream",
     "text": [
      "[[1 2]\n",
      " [3 4]]\n",
      "[[1 3]\n",
      " [2 4]]\n"
     ]
    }
   ],
   "source": [
    "# 转置和数学公式一直，简单粗暴\n",
    "print(x)\n",
    "print(x.T)"
   ]
  },
  {
   "cell_type": "code",
   "execution_count": 37,
   "metadata": {},
   "outputs": [
    {
     "name": "stdout",
     "output_type": "stream",
     "text": [
      "[1 2 3]\n",
      "[1 2 3]\n",
      "[[1 2 3]]\n",
      "[[1]\n",
      " [2]\n",
      " [3]]\n"
     ]
    }
   ],
   "source": [
    "# 需要说明一下，1维的vector转置还是自己\n",
    "v = np.array([1,2,3])\n",
    "print(v)\n",
    "print(v.T)\n",
    "\n",
    "# 2维的就不一样了\n",
    "w = np.array([[1,2,3]])\n",
    "print(w)\n",
    "print(w.T)"
   ]
  },
  {
   "cell_type": "markdown",
   "metadata": {},
   "source": [
    "### Broadcasting"
   ]
  },
  {
   "cell_type": "markdown",
   "metadata": {},
   "source": [
    "这个没想好哪个中文词最贴切，我们暂且叫它“传播吧”:<br>\n",
    "作用是什么呢，我们设想一个场景，如果要用小的矩阵去和大的矩阵做一些操作，但是希望小矩阵能循环和大矩阵的那些块做一样的操作，那急需要Broadcasting啦"
   ]
  },
  {
   "cell_type": "code",
   "execution_count": 38,
   "metadata": {},
   "outputs": [
    {
     "name": "stdout",
     "output_type": "stream",
     "text": [
      "[[ 2  2  4]\n",
      " [ 5  5  7]\n",
      " [ 8  8 10]\n",
      " [11 11 13]]\n"
     ]
    }
   ],
   "source": [
    "# 我们要做一件事情，给x的每一行都逐元素加上一个向量，然后生成y\n",
    "x = np.array([[1,2,3], [4,5,6], [7,8,9], [10, 11, 12]])\n",
    "v = np.array([1, 0, 1])\n",
    "y = np.empty_like(x)   # 生成一个和x维度一致的空数组/矩阵\n",
    "\n",
    "# 比较粗暴的方式是，用for循环逐个相加\n",
    "for i in range(4):\n",
    "    y[i, :] = x[i, :] + v\n",
    "\n",
    "print(y)"
   ]
  },
  {
   "cell_type": "markdown",
   "metadata": {},
   "source": [
    "这种方法当然可以啦，问题是不高效嘛，如果你的x矩阵行数非常多，那就很慢的咯:<br>\n",
    "咱们调整一下，先生成好要加的内容"
   ]
  },
  {
   "cell_type": "code",
   "execution_count": 39,
   "metadata": {},
   "outputs": [
    {
     "name": "stdout",
     "output_type": "stream",
     "text": [
      "[[1 0 1]\n",
      " [1 0 1]\n",
      " [1 0 1]\n",
      " [1 0 1]]\n"
     ]
    }
   ],
   "source": [
    "vv = np.tile(v, (4, 1))  # 重复4遍v，叠起来\n",
    "print(vv)                 # Prints \"[[1 0 1]\n",
    "                         #          [1 0 1]\n",
    "                         #          [1 0 1]\n",
    "                         #          [1 0 1]]\""
   ]
  },
  {
   "cell_type": "code",
   "execution_count": 40,
   "metadata": {},
   "outputs": [
    {
     "name": "stdout",
     "output_type": "stream",
     "text": [
      "[[ 2  2  4]\n",
      " [ 5  5  7]\n",
      " [ 8  8 10]\n",
      " [11 11 13]]\n"
     ]
    }
   ],
   "source": [
    "y = x + vv  # 这样求和大家都能看明白对吧\n",
    "print(y)"
   ]
  },
  {
   "cell_type": "markdown",
   "metadata": {},
   "source": [
    "Numpy broadcasting allows us to perform this computation without actually creating multiple copies of v. Consider this version, using broadcasting:"
   ]
  },
  {
   "cell_type": "code",
   "execution_count": 41,
   "metadata": {},
   "outputs": [
    {
     "name": "stdout",
     "output_type": "stream",
     "text": [
      "[[ 2  2  4]\n",
      " [ 5  5  7]\n",
      " [ 8  8 10]\n",
      " [11 11 13]]\n"
     ]
    }
   ],
   "source": [
    "import numpy as np\n",
    "\n",
    "# 因为broadcasting的存在，你上面的操作可以简单地汇总成一个求和操作\n",
    "x = np.array([[1,2,3], [4,5,6], [7,8,9], [10, 11, 12]])\n",
    "v = np.array([1, 0, 1])\n",
    "y = x + v  # Add v to each row of x using broadcasting\n",
    "print(y)"
   ]
  },
  {
   "cell_type": "markdown",
   "metadata": {},
   "source": [
    "当操作两个array时，numpy会逐个比较它们的shape，在下述情况下，两arrays会兼容和输出broadcasting结果：<br>\n",
    "\n",
    "1. 相等\n",
    "2. 其中一个为1，（进而可进行拷贝拓展已至，shape匹配）\n",
    "\n",
    "比如求和的时候有：\n",
    "```python\n",
    "Image (3d array):  256 x 256 x 3\n",
    "Scale (1d array):              3\n",
    "Result (3d array): 256 x 256 x 3\n",
    "\n",
    "A      (4d array):  8 x 1 x 6 x 1\n",
    "B      (3d array):      7 x 1 x 5\n",
    "Result (4d array):  8 x 7 x 6 x 5\n",
    "\n",
    "A      (2d array):  5 x 4\n",
    "B      (1d array):      1\n",
    "Result (2d array):  5 x 4\n",
    "\n",
    "A      (2d array):  15 x 3 x 5\n",
    "B      (1d array):  15 x 1 x 5\n",
    "Result (2d array):  15 x 3 x 5\n",
    "```\n",
    "\n",
    "下面是一些 broadcasting 的例子:"
   ]
  },
  {
   "cell_type": "code",
   "execution_count": 42,
   "metadata": {},
   "outputs": [
    {
     "name": "stdout",
     "output_type": "stream",
     "text": [
      "[[ 4  5]\n",
      " [ 8 10]\n",
      " [12 15]]\n"
     ]
    }
   ],
   "source": [
    "# 我们来理解一下broadcasting的这种用法\n",
    "v = np.array([1,2,3])  # v 形状是 (3,)\n",
    "w = np.array([4,5])    # w 形状是 (2,)\n",
    "# 先把v变形成3x1的数组/矩阵，然后就可以broadcasting加在w上了:\n",
    "print(np.reshape(v, (3, 1)) * w)"
   ]
  },
  {
   "cell_type": "code",
   "execution_count": 43,
   "metadata": {},
   "outputs": [
    {
     "name": "stdout",
     "output_type": "stream",
     "text": [
      "[[2 4 6]\n",
      " [5 7 9]]\n"
     ]
    }
   ],
   "source": [
    "# 那如果要把一个矩阵的每一行都加上一个向量呢\n",
    "x = np.array([[1,2,3], [4,5,6]])\n",
    "v = np.array([1,2,3])\n",
    "# 恩，其实是一样的啦\n",
    "print(x + v)"
   ]
  },
  {
   "cell_type": "code",
   "execution_count": 44,
   "metadata": {
    "scrolled": true
   },
   "outputs": [
    {
     "name": "stdout",
     "output_type": "stream",
     "text": [
      "[[ 5  6  7]\n",
      " [ 9 10 11]]\n"
     ]
    }
   ],
   "source": [
    "x = np.array([[1,2,3], [4,5,6]]) # 2x3的\n",
    "w = np.array([4,5])    # w 形状是 (2,)\n",
    "\n",
    "# 自己算算看？\n",
    "print((x.T + w).T)"
   ]
  },
  {
   "cell_type": "code",
   "execution_count": 45,
   "metadata": {},
   "outputs": [
    {
     "name": "stdout",
     "output_type": "stream",
     "text": [
      "[[ 5  6  7]\n",
      " [ 9 10 11]]\n"
     ]
    }
   ],
   "source": [
    "# 上面那个操作太复杂了，其实我们可以直接这么做嘛\n",
    "print(x + np.reshape(w, (2, 1)))"
   ]
  },
  {
   "cell_type": "code",
   "execution_count": 46,
   "metadata": {},
   "outputs": [
    {
     "name": "stdout",
     "output_type": "stream",
     "text": [
      "[[ 2  4  6]\n",
      " [ 8 10 12]]\n"
     ]
    }
   ],
   "source": [
    "# broadcasting当然可以逐元素运算了\n",
    "print(x * 2)"
   ]
  },
  {
   "cell_type": "markdown",
   "metadata": {},
   "source": [
    "总结一下broadcasting，可以看看下面的图：<br>\n",
    "![](http://www.astroml.org/_images/fig_broadcast_visual_1.png)"
   ]
  },
  {
   "cell_type": "markdown",
   "metadata": {},
   "source": [
    "接下来我们来看关于where和一些其他的逻辑运算"
   ]
  },
  {
   "cell_type": "code",
   "execution_count": 92,
   "metadata": {},
   "outputs": [
    {
     "name": "stdout",
     "output_type": "stream",
     "text": [
      "[ 1.1  2.2  1.3  1.4  2.5]\n"
     ]
    }
   ],
   "source": [
    "x_arr = np.array([1.1, 1.2, 1.3, 1.4, 1.5])\n",
    "y_arr = np.array([2.1, 2.2, 2.3, 2.4, 2.5])\n",
    "cond = np.array([True, False, True, True, False])\n",
    "print(np.where(cond, x_arr, y_arr))"
   ]
  },
  {
   "cell_type": "code",
   "execution_count": 94,
   "metadata": {},
   "outputs": [
    {
     "name": "stdout",
     "output_type": "stream",
     "text": [
      "[[-1.07862334 -0.65839352 -1.13926498 -0.41236049]\n",
      " [-0.01210289  0.66752415 -0.60377733  0.59145772]\n",
      " [-0.57474232 -0.72783899 -1.45942297 -0.84187951]\n",
      " [-0.3159666   0.04350397 -0.09691279 -1.56976571]]\n"
     ]
    }
   ],
   "source": [
    "arr = np.random.randn(4,4)\n",
    "print(arr)"
   ]
  },
  {
   "cell_type": "code",
   "execution_count": 95,
   "metadata": {},
   "outputs": [
    {
     "name": "stdout",
     "output_type": "stream",
     "text": [
      "[[-2 -2 -2 -2]\n",
      " [-2  2 -2  2]\n",
      " [-2 -2 -2 -2]\n",
      " [-2  2 -2 -2]]\n"
     ]
    }
   ],
   "source": [
    "print(np.where(arr > 0, 2, -2))"
   ]
  },
  {
   "cell_type": "code",
   "execution_count": 97,
   "metadata": {},
   "outputs": [
    {
     "name": "stdout",
     "output_type": "stream",
     "text": [
      "[[-1.07862334 -0.65839352 -1.13926498 -0.41236049]\n",
      " [-0.01210289  2.         -0.60377733  2.        ]\n",
      " [-0.57474232 -0.72783899 -1.45942297 -0.84187951]\n",
      " [-0.3159666   2.         -0.09691279 -1.56976571]]\n"
     ]
    }
   ],
   "source": [
    "print(np.where(arr > 0, 2, arr))"
   ]
  },
  {
   "cell_type": "code",
   "execution_count": 102,
   "metadata": {},
   "outputs": [
    {
     "name": "stdout",
     "output_type": "stream",
     "text": [
      "[1 2 1 0 3]\n"
     ]
    }
   ],
   "source": [
    "cond_1 = np.array([True, False, True, True, False])\n",
    "cond_2 = np.array([False, True, False, True, False])\n",
    "result = np.where(cond_1 & cond_2, 0, \\\n",
    "          np.where(cond_1, 1, np.where(cond_2, 2, 3)))\n",
    "print(result)"
   ]
  },
  {
   "cell_type": "code",
   "execution_count": 107,
   "metadata": {},
   "outputs": [
    {
     "name": "stdout",
     "output_type": "stream",
     "text": [
      "[ 0.27350655 -1.51093462  0.26835915 -0.45991855  1.34450904 -1.86871203\n",
      "  0.04308971  1.69640444 -0.02191351 -0.43875275]\n",
      "5\n"
     ]
    }
   ],
   "source": [
    "arr = np.random.randn(10)\n",
    "print(arr)\n",
    "print((arr > 0).sum())"
   ]
  },
  {
   "cell_type": "code",
   "execution_count": 109,
   "metadata": {},
   "outputs": [
    {
     "name": "stdout",
     "output_type": "stream",
     "text": [
      "True\n",
      "False\n"
     ]
    }
   ],
   "source": [
    "bools = np.array([False, False, True, False])\n",
    "print(bools.any()) # 有一个为True则返回True\n",
    "print(bools.all()) # 有一个为False则返回False"
   ]
  },
  {
   "cell_type": "markdown",
   "metadata": {},
   "source": [
    "一些更高级的ndarray处理"
   ]
  },
  {
   "cell_type": "markdown",
   "metadata": {},
   "source": [
    "连接两个二维数组"
   ]
  },
  {
   "cell_type": "code",
   "execution_count": 118,
   "metadata": {},
   "outputs": [
    {
     "name": "stdout",
     "output_type": "stream",
     "text": [
      "[[ 1  2  3]\n",
      " [ 4  5  6]\n",
      " [ 7  8  9]\n",
      " [10 11 12]]\n",
      "[[ 1  2  3  7  8  9]\n",
      " [ 4  5  6 10 11 12]]\n"
     ]
    }
   ],
   "source": [
    "arr1 = np.array([[1, 2, 3], [4, 5, 6]])\n",
    "arr2 = np.array([[7, 8, 9], [10, 11, 12]])\n",
    "print(np.concatenate([arr1, arr2], axis = 0))  # 按行连接\n",
    "print(np.concatenate([arr1, arr2], axis = 1))  # 按列连接"
   ]
  },
  {
   "cell_type": "markdown",
   "metadata": {},
   "source": [
    "所谓堆叠，参考叠盘子。。。连接的另一种表述\n",
    "垂直stack与水平stack"
   ]
  },
  {
   "cell_type": "code",
   "execution_count": 119,
   "metadata": {},
   "outputs": [
    {
     "name": "stdout",
     "output_type": "stream",
     "text": [
      "[[ 1  2  3]\n",
      " [ 4  5  6]\n",
      " [ 7  8  9]\n",
      " [10 11 12]]\n",
      "[[ 1  2  3  7  8  9]\n",
      " [ 4  5  6 10 11 12]]\n"
     ]
    }
   ],
   "source": [
    "print(np.vstack((arr1, arr2))) # 垂直堆叠\n",
    "print(np.hstack((arr1, arr2))) # 水平堆叠"
   ]
  },
  {
   "cell_type": "markdown",
   "metadata": {},
   "source": [
    "拆分数组"
   ]
  },
  {
   "cell_type": "code",
   "execution_count": 122,
   "metadata": {},
   "outputs": [
    {
     "name": "stdout",
     "output_type": "stream",
     "text": [
      "[[ 0.08218151  0.25291976  0.990262    0.74980044  0.92433676]\n",
      " [ 0.57215647  0.88759783  0.67939949  0.18618301  0.64810013]\n",
      " [ 0.21424794  0.5812622   0.33170632  0.40780156  0.00946797]\n",
      " [ 0.46223634  0.53574553  0.25289433  0.33226224  0.26110024]\n",
      " [ 0.81823359  0.98863697  0.13713923  0.3520669   0.38301044]]\n"
     ]
    }
   ],
   "source": [
    "arr = np.random.rand(5,5)\n",
    "print(arr)"
   ]
  },
  {
   "cell_type": "code",
   "execution_count": 128,
   "metadata": {},
   "outputs": [
    {
     "name": "stdout",
     "output_type": "stream",
     "text": [
      "[[ 0.08218151  0.25291976  0.990262    0.74980044  0.92433676]]\n",
      "\n",
      "[[ 0.57215647  0.88759783  0.67939949  0.18618301  0.64810013]\n",
      " [ 0.21424794  0.5812622   0.33170632  0.40780156  0.00946797]]\n",
      "\n",
      "[[ 0.46223634  0.53574553  0.25289433  0.33226224  0.26110024]\n",
      " [ 0.81823359  0.98863697  0.13713923  0.3520669   0.38301044]]\n"
     ]
    }
   ],
   "source": [
    "first, second, third = np.split(arr, [1,3], axis = 0)\n",
    "print(first)\n",
    "print()\n",
    "print(second)\n",
    "print()\n",
    "print(third)"
   ]
  },
  {
   "cell_type": "code",
   "execution_count": 130,
   "metadata": {},
   "outputs": [
    {
     "name": "stdout",
     "output_type": "stream",
     "text": [
      "[[ 0.08218151]\n",
      " [ 0.57215647]\n",
      " [ 0.21424794]\n",
      " [ 0.46223634]\n",
      " [ 0.81823359]]\n",
      "\n",
      "[[ 0.25291976  0.990262  ]\n",
      " [ 0.88759783  0.67939949]\n",
      " [ 0.5812622   0.33170632]\n",
      " [ 0.53574553  0.25289433]\n",
      " [ 0.98863697  0.13713923]]\n",
      "\n",
      "[[ 0.74980044  0.92433676]\n",
      " [ 0.18618301  0.64810013]\n",
      " [ 0.40780156  0.00946797]\n",
      " [ 0.33226224  0.26110024]\n",
      " [ 0.3520669   0.38301044]]\n"
     ]
    }
   ],
   "source": [
    "first, second, third = np.split(arr, [1, 3], axis = 1)\n",
    "print(first)\n",
    "print()\n",
    "print(second)\n",
    "print()\n",
    "print(third)"
   ]
  },
  {
   "cell_type": "markdown",
   "metadata": {},
   "source": [
    "堆叠辅助"
   ]
  },
  {
   "cell_type": "code",
   "execution_count": 135,
   "metadata": {},
   "outputs": [
    {
     "name": "stdout",
     "output_type": "stream",
     "text": [
      "[[ 0.          1.        ]\n",
      " [ 2.          3.        ]\n",
      " [ 4.          5.        ]\n",
      " [ 0.04811148 -1.93674347]\n",
      " [ 1.19646481  0.17346639]\n",
      " [-1.4388562  -1.41584843]]\n",
      "\n",
      "[[ 0.          1.          0.        ]\n",
      " [ 2.          3.          1.        ]\n",
      " [ 4.          5.          2.        ]\n",
      " [ 0.04811148 -1.93674347  3.        ]\n",
      " [ 1.19646481  0.17346639  4.        ]\n",
      " [-1.4388562  -1.41584843  5.        ]]\n",
      "\n",
      "[[  1 -10]\n",
      " [  2  -9]\n",
      " [  3  -8]\n",
      " [  4  -7]\n",
      " [  5  -6]]\n",
      "\n"
     ]
    }
   ],
   "source": [
    "arr = np.arange(6)\n",
    "arr1 = arr.reshape((3, 2))\n",
    "arr2 = np.random.randn(3, 2)\n",
    "#r_用于按行堆叠\n",
    "print(np.r_[arr1, arr2])\n",
    "print()\n",
    "#c_用于按列堆叠\n",
    "print(np.c_[np.r_[arr1, arr2], arr])\n",
    "print()\n",
    "#切片直接转为数组\n",
    "print(np.c_[1:6, -10:-5])\n",
    "print()"
   ]
  },
  {
   "cell_type": "markdown",
   "metadata": {},
   "source": [
    "使用repeat来重复"
   ]
  },
  {
   "cell_type": "code",
   "execution_count": null,
   "metadata": {
    "collapsed": true
   },
   "outputs": [],
   "source": []
  },
  {
   "cell_type": "code",
   "execution_count": null,
   "metadata": {
    "collapsed": true
   },
   "outputs": [],
   "source": []
  },
  {
   "cell_type": "markdown",
   "metadata": {},
   "source": [
    "用numpy写一个softmax"
   ]
  },
  {
   "cell_type": "code",
   "execution_count": 21,
   "metadata": {},
   "outputs": [
    {
     "name": "stdout",
     "output_type": "stream",
     "text": [
      "[[ 1005.6268522   1006.37640425  1009.16607654  1006.60560186\n",
      "   1004.10292284  1005.5612714   1009.10305278  1000.07293013  1007.4625404\n",
      "   1000.44251085]\n",
      " [ 1006.85008953  1005.50904204  1002.31367115  1005.7564141   1000.25971641\n",
      "   1006.00979083  1007.12821065  1007.23651786  1002.37159662\n",
      "   1005.04012624]\n",
      " [ 1002.63382438  1004.40074103  1002.75870734  1000.20725862\n",
      "   1003.31057929  1005.30945933  1004.85378369  1006.1602791   1007.31576326\n",
      "   1000.38095496]\n",
      " [ 1009.3515505   1000.79475559  1000.83100563  1002.2717183   1009.43042959\n",
      "   1001.8705134   1002.93765709  1001.44900852  1007.20534627  1001.5160502 ]\n",
      " [ 1007.56624747  1001.91174089  1007.52248698  1003.55344569\n",
      "   1002.82665149  1001.9406309   1008.47098145  1005.35970666\n",
      "   1006.55433931  1005.82345413]\n",
      " [ 1003.47411311  1004.46967672  1002.0741481   1001.69349575\n",
      "   1007.57488751  1005.97223924  1002.10361482  1005.4440204   1007.1158348\n",
      "   1006.01226291]\n",
      " [ 1008.23895842  1005.47496358  1001.13920659  1008.34770996\n",
      "   1006.99761462  1002.2593528   1006.13809307  1006.06388217\n",
      "   1009.55611818  1005.43520641]\n",
      " [ 1004.75570801  1005.0957932   1009.5571187   1007.50346236\n",
      "   1005.41450218  1005.87092221  1002.66678405  1008.45754553\n",
      "   1004.21802027  1008.68810935]\n",
      " [ 1003.77936053  1001.64064874  1004.427875    1002.83173202\n",
      "   1004.83871564  1007.1978229   1009.12880593  1003.06085453\n",
      "   1002.67907189  1007.10052005]\n",
      " [ 1003.00418778  1006.56648482  1009.84092066  1009.17472788  1006.8900496\n",
      "   1008.78848124  1006.54494156  1004.90271471  1005.80813443  1001.9352677 ]]\n"
     ]
    }
   ],
   "source": [
    "import numpy as np\n",
    "m = np.random.rand(10, 10) * 10 + 1000\n",
    "print(m)"
   ]
  },
  {
   "cell_type": "code",
   "execution_count": 22,
   "metadata": {},
   "outputs": [
    {
     "name": "stdout",
     "output_type": "stream",
     "text": [
      "[[ inf  inf  inf  inf  inf  inf  inf  inf  inf  inf]\n",
      " [ inf  inf  inf  inf  inf  inf  inf  inf  inf  inf]\n",
      " [ inf  inf  inf  inf  inf  inf  inf  inf  inf  inf]\n",
      " [ inf  inf  inf  inf  inf  inf  inf  inf  inf  inf]\n",
      " [ inf  inf  inf  inf  inf  inf  inf  inf  inf  inf]\n",
      " [ inf  inf  inf  inf  inf  inf  inf  inf  inf  inf]\n",
      " [ inf  inf  inf  inf  inf  inf  inf  inf  inf  inf]\n",
      " [ inf  inf  inf  inf  inf  inf  inf  inf  inf  inf]\n",
      " [ inf  inf  inf  inf  inf  inf  inf  inf  inf  inf]\n",
      " [ inf  inf  inf  inf  inf  inf  inf  inf  inf  inf]]\n"
     ]
    },
    {
     "name": "stderr",
     "output_type": "stream",
     "text": [
      "c:\\users\\jasonchuzewei\\anaconda3\\envs\\julyedu\\lib\\site-packages\\ipykernel_launcher.py:1: RuntimeWarning: overflow encountered in exp\n",
      "  \"\"\"Entry point for launching an IPython kernel.\n"
     ]
    }
   ],
   "source": [
    "print(np.exp(m))"
   ]
  },
  {
   "cell_type": "code",
   "execution_count": 23,
   "metadata": {},
   "outputs": [
    {
     "name": "stdout",
     "output_type": "stream",
     "text": [
      "[ 1009.16607654  1007.23651786  1007.31576326  1009.43042959  1008.47098145\n",
      "  1007.57488751  1009.55611818  1009.5571187   1009.12880593  1009.84092066] (10,)\n"
     ]
    }
   ],
   "source": [
    "m_row_max = m.max(axis=1)\n",
    "print(m_row_max, m_row_max.shape)"
   ]
  },
  {
   "cell_type": "code",
   "execution_count": 24,
   "metadata": {},
   "outputs": [
    {
     "name": "stdout",
     "output_type": "stream",
     "text": [
      "[[-3.53922434 -0.8601136   1.85031327 -2.82482773 -4.36805861 -2.01361612\n",
      "  -0.4530654  -9.48418857 -1.66626552 -9.39840982]\n",
      " [-2.31598701 -1.72747581 -5.00209211 -3.67401548 -8.21126504 -1.56509668\n",
      "  -2.42790753 -2.32060085 -6.7572093  -4.80079442]\n",
      " [-6.53225216 -2.83577683 -4.55705593 -9.22317097 -5.16040216 -2.26542819\n",
      "  -4.70233449 -3.39683961 -1.81304266 -9.4599657 ]\n",
      " [ 0.18547396 -6.44176227 -6.48475764 -7.15871129  0.95944814 -5.70437412\n",
      "  -6.6184611  -8.10811019 -1.92345965 -8.32487046]\n",
      " [-1.59982907 -5.32477697  0.20672372 -5.8769839  -5.64432996 -5.63425661\n",
      "  -1.08513673 -4.19741205 -2.57446661 -4.01746653]\n",
      " [-5.69196343 -2.76684114 -5.24161517 -7.73693384 -0.89609394 -1.60264828\n",
      "  -7.45250336 -4.1130983  -2.01297113 -3.82865775]\n",
      " [-0.92711812 -1.76155428 -6.17655667 -1.08271963 -1.47336683 -5.31553471\n",
      "  -3.41802511 -3.49323654  0.42731225 -4.40571425]\n",
      " [-4.41036853 -2.14072466  2.24135544 -1.92696723 -3.05647927 -1.70396531\n",
      "  -6.88933413 -1.09957318 -4.91078566 -1.15281131]\n",
      " [-5.38671601 -5.59586912 -2.88788826 -6.59869757 -3.63226581 -0.37706461\n",
      "  -0.42731225 -6.49626417 -6.44973404 -2.74040061]\n",
      " [-6.16188876 -0.67003304  2.5251574  -0.25570171 -1.58093185  1.21359372\n",
      "  -3.01117662 -4.654404   -3.3206715  -7.90565296]]\n"
     ]
    }
   ],
   "source": [
    "m = m - m_row_max\n",
    "print(m)"
   ]
  },
  {
   "cell_type": "code",
   "execution_count": 32,
   "metadata": {},
   "outputs": [
    {
     "name": "stdout",
     "output_type": "stream",
     "text": [
      "[[  2.90358404e-02   4.23114012e-01   6.36181220e+00   5.93188748e-02\n",
      "    1.26758254e-02   1.33505031e-01   6.35676559e-01   7.60447503e-05\n",
      "    1.88951384e-01   8.28557167e-05]\n",
      " [  9.86687488e-02   1.77732474e-01   6.72386521e-03   2.53743747e-02\n",
      "    2.71576947e-04   2.09067799e-01   8.82212396e-02   9.82145559e-02\n",
      "    1.16246875e-03   8.22321179e-03]\n",
      " [  1.45572363e-03   5.86729295e-02   1.04929054e-02   9.87251366e-05\n",
      "    5.73939107e-03   1.03785585e-01   9.07406902e-03   3.34789094e-02\n",
      "    1.63156949e-01   7.79092635e-05]\n",
      " [  1.20378885e+00   1.59359586e-03   1.52653070e-03   7.78056598e-04\n",
      "    2.61025557e+00   3.33136178e-03   1.33548455e-03   3.01087335e-04\n",
      "    1.46100629e-01   2.42412325e-04]\n",
      " [  2.01931032e-01   4.86943692e-03   1.22964279e+00   2.80322736e-03\n",
      "    3.53751789e-03   3.57333261e-03   3.37855588e-01   1.50344350e-02\n",
      "    7.61944530e-02   1.79985059e-02]\n",
      " [  3.37296389e-03   6.28602585e-02   5.29170295e-03   4.36407622e-04\n",
      "    4.08160852e-01   2.01362548e-01   5.79987874e-04   1.63570170e-02\n",
      "    1.33591168e-01   2.17387750e-02]\n",
      " [  3.95692408e-01   1.71777666e-01   2.07756931e-03   3.38673206e-01\n",
      "    2.29152666e-01   4.91465012e-03   3.27771023e-02   3.04023145e-02\n",
      "    1.53313131e+00   1.22073841e-02]\n",
      " [  1.21506996e-02   1.17569614e-01   9.40607201e+00   1.45589068e-01\n",
      "    4.70530649e-02   1.81960562e-01   1.01859186e-03   3.33013191e-01\n",
      "    7.36669834e-03   3.15747854e-01]\n",
      " [  4.57697944e-03   3.71317075e-03   5.56936991e-02   1.36214098e-03\n",
      "    2.64561718e-02   6.85871756e-01   6.52259850e-01   1.50906629e-03\n",
      "    1.58094258e-03   6.45444845e-02]\n",
      " [  2.10826750e-03   5.11691671e-01   1.24928615e+01   7.74372924e-01\n",
      "    2.05783250e-01   3.36555782e+00   4.92337152e-02   9.51958526e-03\n",
      "    3.61285634e-02   3.68653653e-04]] (10, 10)\n"
     ]
    }
   ],
   "source": [
    "m_exp = np.exp(m)\n",
    "print(m_exp, m_exp.shape)"
   ]
  },
  {
   "cell_type": "code",
   "execution_count": 35,
   "metadata": {},
   "outputs": [
    {
     "name": "stdout",
     "output_type": "stream",
     "text": [
      "[[  7.84424863]\n",
      " [  0.71366032]\n",
      " [  0.3860331 ]\n",
      " [  3.96925358]\n",
      " [  1.89344032]\n",
      " [  0.85375168]\n",
      " [  2.75080628]\n",
      " [ 10.56754136]\n",
      " [  1.49756826]\n",
      " [ 17.44762591]] (10, 1)\n"
     ]
    }
   ],
   "source": [
    "m_exp_row_sum = m_exp.sum(axis = 1).reshape(10,1)\n",
    "print(m_exp_row_sum, m_exp_row_sum.shape)"
   ]
  },
  {
   "cell_type": "code",
   "execution_count": 36,
   "metadata": {},
   "outputs": [
    {
     "name": "stdout",
     "output_type": "stream",
     "text": [
      "[[  3.70154514e-03   5.39393933e-02   8.11016135e-01   7.56208500e-03\n",
      "    1.61593877e-03   1.70194798e-02   8.10372783e-02   9.69433198e-06\n",
      "    2.40878882e-02   1.05626072e-05]\n",
      " [  1.38257301e-01   2.49043516e-01   9.42166051e-03   3.55552553e-02\n",
      "    3.80540912e-04   2.92951415e-01   1.23617970e-01   1.37620873e-01\n",
      "    1.62888243e-03   1.15225852e-02]\n",
      " [  3.77098141e-03   1.51989376e-01   2.71813621e-02   2.55742674e-04\n",
      "    1.48676140e-02   2.68851521e-01   2.35059353e-02   8.67254898e-02\n",
      "    4.22650157e-01   2.01820165e-04]\n",
      " [  3.03278394e-01   4.01485022e-04   3.84588857e-04   1.96020885e-04\n",
      "    6.57618748e-01   8.39291749e-04   3.36457352e-04   7.58549005e-05\n",
      "    3.68080865e-02   6.10725217e-05]\n",
      " [  1.06647688e-01   2.57174037e-03   6.49422524e-01   1.48049417e-03\n",
      "    1.86830176e-03   1.88721692e-03   1.78434770e-01   7.94027400e-03\n",
      "    4.02412752e-02   9.50571596e-03]\n",
      " [  3.95075520e-03   7.36282691e-02   6.19817573e-03   5.11164584e-04\n",
      "    4.78079120e-01   2.35856107e-01   6.79340243e-04   1.91589865e-02\n",
      "    1.56475438e-01   2.54626438e-02]\n",
      " [  1.43845974e-01   6.24462971e-02   7.55258311e-04   1.23117796e-01\n",
      "    8.33038182e-02   1.78662167e-03   1.19154528e-02   1.10521467e-02\n",
      "    5.57338888e-01   4.43774766e-03]\n",
      " [  1.14981330e-03   1.11255409e-02   8.90090864e-01   1.37770048e-02\n",
      "    4.45260286e-03   1.72188171e-02   9.63887274e-05   3.15128354e-02\n",
      "    6.97106175e-04   2.98790271e-02]\n",
      " [  3.05627434e-03   2.47946677e-03   3.71894227e-02   9.09568539e-04\n",
      "    1.76660874e-02   4.57990313e-01   4.35545989e-01   1.00767780e-03\n",
      "    1.05567314e-03   4.30995275e-02]\n",
      " [  1.20834061e-04   2.93272950e-02   7.16020708e-01   4.43827102e-02\n",
      "    1.17943410e-02   1.92894887e-01   2.82180025e-03   5.45609203e-04\n",
      "    2.07068650e-03   2.11291585e-05]]\n"
     ]
    }
   ],
   "source": [
    "m_softmax = m_exp / m_exp_row_sum\n",
    "print(m_softmax)"
   ]
  },
  {
   "cell_type": "code",
   "execution_count": 37,
   "metadata": {},
   "outputs": [
    {
     "name": "stdout",
     "output_type": "stream",
     "text": [
      "[ 1.  1.  1.  1.  1.  1.  1.  1.  1.  1.]\n"
     ]
    }
   ],
   "source": [
    "print(m_softmax.sum(axis=1))"
   ]
  },
  {
   "cell_type": "markdown",
   "metadata": {},
   "source": [
    "更多的numpy细节和用法可以查看一下官网[numpy指南](http://docs.scipy.org/doc/numpy/reference/)"
   ]
  },
  {
   "cell_type": "code",
   "execution_count": null,
   "metadata": {
    "collapsed": true
   },
   "outputs": [],
   "source": []
  }
 ],
 "metadata": {
  "kernelspec": {
   "display_name": "Python 3",
   "language": "python",
   "name": "python3"
  },
  "language_info": {
   "codemirror_mode": {
    "name": "ipython",
    "version": 3
   },
   "file_extension": ".py",
   "mimetype": "text/x-python",
   "name": "python",
   "nbconvert_exporter": "python",
   "pygments_lexer": "ipython3",
   "version": "3.6.1"
  }
 },
 "nbformat": 4,
 "nbformat_minor": 1
}

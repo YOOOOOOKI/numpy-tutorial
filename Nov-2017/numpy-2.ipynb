{
 "cells": [
  {
   "cell_type": "markdown",
   "metadata": {},
   "source": [
    "# numpy基础\n",
    "\n",
    "### 七月在线python数据分析集训营 julyedu.com\n",
    "\n",
    "褚则伟 zeweichu@gmail.com"
   ]
  },
  {
   "cell_type": "markdown",
   "metadata": {},
   "source": [
    "## 目录\n",
    "- broadcasting广播\n",
    "- 文件输入输出\n",
    "- 线性代数运算\n",
    "- 随堂小项目：用Numpy写一个Softmax"
   ]
  },
  {
   "cell_type": "markdown",
   "metadata": {},
   "source": [
    "## 复习"
   ]
  },
  {
   "cell_type": "markdown",
   "metadata": {},
   "source": [
    "首先复习一下上次讲课的内容，我们首先产生一个随机的numpy ndarray"
   ]
  },
  {
   "cell_type": "code",
   "execution_count": 1,
   "metadata": {},
   "outputs": [
    {
     "name": "stdout",
     "output_type": "stream",
     "text": [
      "(3, 5, 6) (3, 6, 4)\n"
     ]
    }
   ],
   "source": [
    "import numpy as np\n",
    "x = (10 * np.random.random((3, 5, 6)) - 5).astype(np.int32)\n",
    "y = (10 * np.random.random((3, 6, 4)) - 5).astype(np.int32)\n",
    "print(x.shape, y.shape)"
   ]
  },
  {
   "cell_type": "code",
   "execution_count": 2,
   "metadata": {},
   "outputs": [
    {
     "data": {
      "text/plain": [
       "array([[ 2,  1, -3,  2, -3, -1],\n",
       "       [-3,  4, -1, -2, -2, -1],\n",
       "       [-2,  2,  4,  0,  1, -2]], dtype=int32)"
      ]
     },
     "execution_count": 2,
     "metadata": {},
     "output_type": "execute_result"
    }
   ],
   "source": [
    "x[:, 2, :]"
   ]
  },
  {
   "cell_type": "code",
   "execution_count": 3,
   "metadata": {},
   "outputs": [
    {
     "data": {
      "text/plain": [
       "array([[-2.5       ,  0.        , -0.33333333,  0.83333333, -0.66666667],\n",
       "       [ 0.16666667,  1.83333333, -0.83333333,  1.66666667,  0.5       ],\n",
       "       [-0.16666667, -0.5       ,  0.5       , -1.16666667,  0.5       ]])"
      ]
     },
     "execution_count": 3,
     "metadata": {},
     "output_type": "execute_result"
    }
   ],
   "source": [
    "np.mean(x, -1)"
   ]
  },
  {
   "cell_type": "code",
   "execution_count": 4,
   "metadata": {},
   "outputs": [
    {
     "data": {
      "text/plain": [
       "array([[[-2.5       ],\n",
       "        [ 0.        ],\n",
       "        [-0.33333333],\n",
       "        [ 0.83333333],\n",
       "        [-0.66666667]],\n",
       "\n",
       "       [[ 0.16666667],\n",
       "        [ 1.83333333],\n",
       "        [-0.83333333],\n",
       "        [ 1.66666667],\n",
       "        [ 0.5       ]],\n",
       "\n",
       "       [[-0.16666667],\n",
       "        [-0.5       ],\n",
       "        [ 0.5       ],\n",
       "        [-1.16666667],\n",
       "        [ 0.5       ]]])"
      ]
     },
     "execution_count": 4,
     "metadata": {},
     "output_type": "execute_result"
    }
   ],
   "source": [
    "np.mean(x, -1, keepdims=True)"
   ]
  },
  {
   "cell_type": "markdown",
   "metadata": {},
   "source": [
    "## Broadcasting\n",
    "### 七月在线python数据分析集训营 julyedu.com"
   ]
  },
  {
   "cell_type": "markdown",
   "metadata": {},
   "source": [
    "这个没想好哪个中文词最贴切，我们暂且叫它“传播吧”:<br>\n",
    "作用是什么呢，我们设想一个场景，如果要用小的矩阵去和大的矩阵做一些操作，但是希望小矩阵能循环和大矩阵的那些块做一样的操作，那急需要Broadcasting啦"
   ]
  },
  {
   "cell_type": "markdown",
   "metadata": {},
   "source": [
    "我们要做一件事情，给x的每一行都逐元素加上一个向量，然后生成y"
   ]
  },
  {
   "cell_type": "code",
   "execution_count": 5,
   "metadata": {},
   "outputs": [
    {
     "name": "stdout",
     "output_type": "stream",
     "text": [
      "[[0 0 0]\n",
      " [0 0 0]\n",
      " [0 0 0]\n",
      " [0 0 0]]\n"
     ]
    }
   ],
   "source": [
    "x = np.array([[1,2,3], [4,5,6], [7,8,9], [10, 11, 12]])\n",
    "v = np.array([1, 0, 1])\n",
    "y = np.zeros_like(x)   # 生成一个和x维度一致的空数组/矩阵\n",
    "print(y)"
   ]
  },
  {
   "cell_type": "markdown",
   "metadata": {},
   "source": [
    "比较粗暴的方式是，用for循环逐个相加"
   ]
  },
  {
   "cell_type": "code",
   "execution_count": 6,
   "metadata": {},
   "outputs": [
    {
     "name": "stdout",
     "output_type": "stream",
     "text": [
      "[[ 2  2  4]\n",
      " [ 5  5  7]\n",
      " [ 8  8 10]\n",
      " [11 11 13]]\n"
     ]
    }
   ],
   "source": [
    "for i in range(x.shape[0]):\n",
    "    for j in range(x.shape[1]):\n",
    "        y[i, j] = x[i, j] + v[j]\n",
    "print(y)"
   ]
  },
  {
   "cell_type": "markdown",
   "metadata": {},
   "source": [
    "这种方法当然可以啦，问题是不高效嘛，如果你的x矩阵行数非常多，那就很慢的咯:"
   ]
  },
  {
   "cell_type": "code",
   "execution_count": 7,
   "metadata": {
    "collapsed": true
   },
   "outputs": [],
   "source": [
    "import time"
   ]
  },
  {
   "cell_type": "code",
   "execution_count": 8,
   "metadata": {},
   "outputs": [
    {
     "name": "stdout",
     "output_type": "stream",
     "text": [
      "[[ 500.  500.  500. ...,  500.  500.  500.]\n",
      " [ 500.  500.  500. ...,  500.  500.  500.]\n",
      " [ 500.  500.  500. ...,  500.  500.  500.]\n",
      " ..., \n",
      " [ 500.  500.  500. ...,  500.  500.  500.]\n",
      " [ 500.  500.  500. ...,  500.  500.  500.]\n",
      " [ 500.  500.  500. ...,  500.  500.  500.]]\n",
      "It took 18.60887122154236 seconds to finish\n"
     ]
    }
   ],
   "source": [
    "start = time.time()\n",
    "x = 200 * np.ones((5000, 6000))\n",
    "v = 300 * np.ones((6000))\n",
    "y = np.zeros_like(x)\n",
    "for i in range(x.shape[0]):\n",
    "    for j in range(x.shape[1]):\n",
    "        y[i, j] = x[i, j] + v[j]\n",
    "print(y)\n",
    "print(\"It took {} seconds to finish\".format(time.time() - start))"
   ]
  },
  {
   "cell_type": "markdown",
   "metadata": {},
   "source": [
    "Numpy broadcasting allows us to perform this computation without actually creating multiple copies of v. Consider this version, using broadcasting:"
   ]
  },
  {
   "cell_type": "markdown",
   "metadata": {},
   "source": [
    "因为broadcasting的存在，你上面的操作可以简单地汇总成一个求和操作"
   ]
  },
  {
   "cell_type": "code",
   "execution_count": 9,
   "metadata": {},
   "outputs": [
    {
     "name": "stdout",
     "output_type": "stream",
     "text": [
      "[[ 2  2  4]\n",
      " [ 5  5  7]\n",
      " [ 8  8 10]\n",
      " [11 11 13]]\n"
     ]
    }
   ],
   "source": [
    "x = np.array([[1,2,3], [4,5,6], [7,8,9], [10, 11, 12]])\n",
    "v = np.array([1, 0, 1])\n",
    "y = x + v  # Add v to each row of x using broadcasting\n",
    "print(y)"
   ]
  },
  {
   "cell_type": "code",
   "execution_count": 10,
   "metadata": {},
   "outputs": [
    {
     "name": "stdout",
     "output_type": "stream",
     "text": [
      "It took 0.2812681198120117 seconds to finish\n"
     ]
    }
   ],
   "source": [
    "start = time.time()\n",
    "x = 200 * np.ones((5000, 6000))\n",
    "v = 300 * np.array((6000))\n",
    "y = x + v\n",
    "print(\"It took {} seconds to finish\".format(time.time() - start))"
   ]
  },
  {
   "cell_type": "markdown",
   "metadata": {},
   "source": [
    "当操作两个array时，numpy会逐个比较它们的shape，在下述情况下，两arrays会兼容和输出broadcasting结果：<br>\n",
    "\n",
    "1. 相等\n",
    "2. 其中一个为1，（进而可进行拷贝拓展已至，shape匹配）\n",
    "3. 当两个ndarray的维度不完全相同的时候，rank较小的那个ndarray会被自动在前面加上一个一维维度，直到与另一个ndaary rank相同再检查是否匹配\n",
    "\n",
    "比如求和的时候有：\n",
    "```python\n",
    "Image (3d array):  256 x 256 x 3\n",
    "Scale (1d array):              3\n",
    "Result (3d array): 256 x 256 x 3\n",
    "\n",
    "A      (4d array):  8 x 1 x 6 x 1\n",
    "B      (3d array):      7 x 1 x 5\n",
    "Result (4d array):  8 x 7 x 6 x 5\n",
    "\n",
    "A      (2d array):  5 x 4\n",
    "B      (1d array):      1\n",
    "Result (2d array):  5 x 4\n",
    "\n",
    "A      (2d array):  15 x 3 x 5\n",
    "B      (1d array):  15 x 1 x 5\n",
    "Result (2d array):  15 x 3 x 5\n",
    "```\n",
    "\n",
    "下面是一些 broadcasting 的例子:"
   ]
  },
  {
   "cell_type": "markdown",
   "metadata": {},
   "source": [
    "我们来理解一下broadcasting的这种用法\n",
    "\n",
    "先把v变形成3x1的数组/矩阵，然后就可以broadcasting加在w上了:"
   ]
  },
  {
   "cell_type": "code",
   "execution_count": 11,
   "metadata": {},
   "outputs": [
    {
     "name": "stdout",
     "output_type": "stream",
     "text": [
      "[[ 4  5]\n",
      " [ 8 10]\n",
      " [12 15]]\n"
     ]
    }
   ],
   "source": [
    "v = np.array([1,2,3])  # v 形状是 (3,)\n",
    "w = np.array([4,5])    # w 形状是 (2,)\n",
    "\n",
    "print(np.reshape(v, (3, 1)) * w) # (3, 1), (2,) -> (3, 1), (1, 2) -> (3, 2)"
   ]
  },
  {
   "cell_type": "markdown",
   "metadata": {},
   "source": [
    "那如果要把一个矩阵的每一行都加上一个向量呢"
   ]
  },
  {
   "cell_type": "code",
   "execution_count": 12,
   "metadata": {},
   "outputs": [
    {
     "name": "stdout",
     "output_type": "stream",
     "text": [
      "[[2 4 6]\n",
      " [5 7 9]]\n"
     ]
    }
   ],
   "source": [
    "x = np.array([[1,2,3], [4,5,6]]) # (2,3)\n",
    "v = np.array([1,2,3]) # (3,)\n",
    "print(x + v) #(2, 3), (3,) -> (2, 3), (1, 3) -> (2, 3)"
   ]
  },
  {
   "cell_type": "code",
   "execution_count": 13,
   "metadata": {
    "scrolled": true
   },
   "outputs": [
    {
     "ename": "ValueError",
     "evalue": "operands could not be broadcast together with shapes (2,3) (2,) ",
     "output_type": "error",
     "traceback": [
      "\u001b[0;31m---------------------------------------------------------------------------\u001b[0m",
      "\u001b[0;31mValueError\u001b[0m                                Traceback (most recent call last)",
      "\u001b[0;32m<ipython-input-13-3aa1d54e23d0>\u001b[0m in \u001b[0;36m<module>\u001b[0;34m()\u001b[0m\n\u001b[1;32m      1\u001b[0m \u001b[0mx\u001b[0m \u001b[0;34m=\u001b[0m \u001b[0mnp\u001b[0m\u001b[0;34m.\u001b[0m\u001b[0marray\u001b[0m\u001b[0;34m(\u001b[0m\u001b[0;34m[\u001b[0m\u001b[0;34m[\u001b[0m\u001b[0;36m1\u001b[0m\u001b[0;34m,\u001b[0m\u001b[0;36m2\u001b[0m\u001b[0;34m,\u001b[0m\u001b[0;36m3\u001b[0m\u001b[0;34m]\u001b[0m\u001b[0;34m,\u001b[0m \u001b[0;34m[\u001b[0m\u001b[0;36m4\u001b[0m\u001b[0;34m,\u001b[0m\u001b[0;36m5\u001b[0m\u001b[0;34m,\u001b[0m\u001b[0;36m6\u001b[0m\u001b[0;34m]\u001b[0m\u001b[0;34m]\u001b[0m\u001b[0;34m)\u001b[0m \u001b[0;31m# 2x3的\u001b[0m\u001b[0;34m\u001b[0m\u001b[0m\n\u001b[1;32m      2\u001b[0m \u001b[0mw\u001b[0m \u001b[0;34m=\u001b[0m \u001b[0mnp\u001b[0m\u001b[0;34m.\u001b[0m\u001b[0marray\u001b[0m\u001b[0;34m(\u001b[0m\u001b[0;34m[\u001b[0m\u001b[0;36m4\u001b[0m\u001b[0;34m,\u001b[0m\u001b[0;36m5\u001b[0m\u001b[0;34m]\u001b[0m\u001b[0;34m)\u001b[0m    \u001b[0;31m# w 形状是 (2,)\u001b[0m\u001b[0;34m\u001b[0m\u001b[0m\n\u001b[0;32m----> 3\u001b[0;31m \u001b[0mprint\u001b[0m\u001b[0;34m(\u001b[0m\u001b[0mx\u001b[0m \u001b[0;34m+\u001b[0m \u001b[0mw\u001b[0m\u001b[0;34m)\u001b[0m \u001b[0;31m# (2, 3), (2, ) -> (2, 3), (1, 2) -> not compatible\u001b[0m\u001b[0;34m\u001b[0m\u001b[0m\n\u001b[0m",
      "\u001b[0;31mValueError\u001b[0m: operands could not be broadcast together with shapes (2,3) (2,) "
     ]
    }
   ],
   "source": [
    "x = np.array([[1,2,3], [4,5,6]]) # 2x3的\n",
    "w = np.array([4,5])    # w 形状是 (2,)\n",
    "print(x + w) # (2, 3), (2, ) -> (2, 3), (1, 2) -> not compatible"
   ]
  },
  {
   "cell_type": "code",
   "execution_count": null,
   "metadata": {
    "collapsed": true
   },
   "outputs": [],
   "source": [
    "print((x.T + w).T)"
   ]
  },
  {
   "cell_type": "markdown",
   "metadata": {},
   "source": [
    "上面那个操作太复杂了，其实我们可以直接这么做嘛"
   ]
  },
  {
   "cell_type": "code",
   "execution_count": null,
   "metadata": {
    "collapsed": true
   },
   "outputs": [],
   "source": [
    "print(x + np.reshape(w, (2, 1)))"
   ]
  },
  {
   "cell_type": "markdown",
   "metadata": {},
   "source": [
    "broadcasting当然可以逐元素运算了"
   ]
  },
  {
   "cell_type": "code",
   "execution_count": null,
   "metadata": {
    "collapsed": true
   },
   "outputs": [],
   "source": [
    "print(x * 2)"
   ]
  },
  {
   "cell_type": "markdown",
   "metadata": {},
   "source": [
    "总结一下broadcasting，可以看看下面的图：<br>\n",
    "![](http://www.astroml.org/_images/fig_broadcast_visual_1.png)"
   ]
  },
  {
   "cell_type": "markdown",
   "metadata": {},
   "source": [
    "## 逻辑运算\n",
    "### 七月在线python数据分析班 2017升级版 julyedu.com"
   ]
  },
  {
   "cell_type": "markdown",
   "metadata": {},
   "source": [
    "where可以帮我们选择是取第一个ndarray的元素还是第二个的"
   ]
  },
  {
   "cell_type": "code",
   "execution_count": 92,
   "metadata": {},
   "outputs": [
    {
     "name": "stdout",
     "output_type": "stream",
     "text": [
      "[ 1.1  2.2  1.3  1.4  2.5]\n"
     ]
    }
   ],
   "source": [
    "x_arr = np.array([1.1, 1.2, 1.3, 1.4, 1.5])\n",
    "y_arr = np.array([2.1, 2.2, 2.3, 2.4, 2.5])\n",
    "cond = np.array([True, False, True, True, False])\n",
    "print(np.where(cond, x_arr, y_arr))"
   ]
  },
  {
   "cell_type": "code",
   "execution_count": 93,
   "metadata": {},
   "outputs": [
    {
     "name": "stdout",
     "output_type": "stream",
     "text": [
      "[[-0.70291816 -0.48078299 -0.07345543  0.37364768]\n",
      " [-2.12054472  0.12560835  0.53658201 -0.34450973]\n",
      " [-0.23174391 -0.78220029 -0.34650272  0.16584218]\n",
      " [-0.12586755 -0.46684574 -1.76005006 -0.93146404]]\n"
     ]
    }
   ],
   "source": [
    "arr = np.random.randn(4,4)\n",
    "print(arr)"
   ]
  },
  {
   "cell_type": "code",
   "execution_count": 94,
   "metadata": {},
   "outputs": [
    {
     "name": "stdout",
     "output_type": "stream",
     "text": [
      "[[-2 -2 -2  2]\n",
      " [-2  2  2 -2]\n",
      " [-2 -2 -2  2]\n",
      " [-2 -2 -2 -2]]\n"
     ]
    }
   ],
   "source": [
    "print(np.where(arr > 0, 2, -2))"
   ]
  },
  {
   "cell_type": "code",
   "execution_count": 95,
   "metadata": {},
   "outputs": [
    {
     "name": "stdout",
     "output_type": "stream",
     "text": [
      "[[-0.70291816 -0.48078299 -0.07345543  2.        ]\n",
      " [-2.12054472  2.          2.         -0.34450973]\n",
      " [-0.23174391 -0.78220029 -0.34650272  2.        ]\n",
      " [-0.12586755 -0.46684574 -1.76005006 -0.93146404]]\n"
     ]
    }
   ],
   "source": [
    "print(np.where(arr > 0, 2, arr))"
   ]
  },
  {
   "cell_type": "code",
   "execution_count": 96,
   "metadata": {},
   "outputs": [
    {
     "name": "stdout",
     "output_type": "stream",
     "text": [
      "[1 2 1 0 3]\n"
     ]
    }
   ],
   "source": [
    "cond_1 = np.array([True, False, True, True, False])\n",
    "cond_2 = np.array([False, True, False, True, False])\n",
    "result = np.where(cond_1 & cond_2, 0, \\\n",
    "          np.where(cond_1, 1, np.where(cond_2, 2, 3)))\n",
    "print(result)"
   ]
  },
  {
   "cell_type": "code",
   "execution_count": 97,
   "metadata": {},
   "outputs": [
    {
     "name": "stdout",
     "output_type": "stream",
     "text": [
      "[ 1.84333075 -0.18505244 -0.3696118   1.36176081  1.36693291  0.41808203\n",
      " -1.03304133 -0.04080082  0.03553841 -0.29910141]\n",
      "5\n"
     ]
    }
   ],
   "source": [
    "arr = np.random.randn(10)\n",
    "print(arr)\n",
    "print((arr > 0).sum())"
   ]
  },
  {
   "cell_type": "code",
   "execution_count": 98,
   "metadata": {},
   "outputs": [
    {
     "name": "stdout",
     "output_type": "stream",
     "text": [
      "True\n",
      "False\n"
     ]
    }
   ],
   "source": [
    "bools = np.array([False, False, True, False])\n",
    "print(bools.any()) # 有一个为True则返回True\n",
    "print(bools.all()) # 有一个为False则返回False"
   ]
  },
  {
   "cell_type": "markdown",
   "metadata": {},
   "source": [
    "## 连接两个二维数组\n",
    "### 七月在线python数据分析集训营 julyedu.com"
   ]
  },
  {
   "cell_type": "code",
   "execution_count": null,
   "metadata": {
    "collapsed": true
   },
   "outputs": [],
   "source": [
    "arr1 = np.array([[1, 2, 3], [4, 5, 6]])\n",
    "arr2 = np.array([[7, 8, 9], [10, 11, 12]])\n",
    "print(np.concatenate([arr1, arr2], axis = 0))  # 按行连接\n",
    "print(np.concatenate([arr1, arr2], axis = 1))  # 按列连接"
   ]
  },
  {
   "cell_type": "markdown",
   "metadata": {},
   "source": [
    "所谓堆叠，参考叠盘子。。。连接的另一种表述\n",
    "垂直stack与水平stack"
   ]
  },
  {
   "cell_type": "code",
   "execution_count": null,
   "metadata": {
    "collapsed": true
   },
   "outputs": [],
   "source": [
    "print(np.vstack((arr1, arr2))) # 垂直堆叠\n",
    "print(np.hstack((arr1, arr2))) # 水平堆叠"
   ]
  },
  {
   "cell_type": "markdown",
   "metadata": {},
   "source": [
    "拆分数组, 我们使用[split方法](https://docs.scipy.org/doc/numpy-1.13.0/reference/generated/numpy.split.html)。\n",
    "\n",
    "split(array, indices_or_sections, axis=0)\n",
    "\n",
    "第一个参数array没有什么疑问，第二个参数可以是切断的index，也可以是切分的个数，第三个参数是我们切块的维度"
   ]
  },
  {
   "cell_type": "code",
   "execution_count": 87,
   "metadata": {},
   "outputs": [
    {
     "name": "stdout",
     "output_type": "stream",
     "text": [
      "[[ 0.02748613  0.80183338  0.98362064  0.83390233  0.30820675  0.62237232]\n",
      " [ 0.24180617  0.50848842  0.11817702  0.63971147  0.95449527  0.77232103]\n",
      " [ 0.65504176  0.33856181  0.58431342  0.11515941  0.50000158  0.56214734]\n",
      " [ 0.36666571  0.11613323  0.01241145  0.67861831  0.46134197  0.69705024]\n",
      " [ 0.68029107  0.12991374  0.98166857  0.5981871   0.80964768  0.44394885]\n",
      " [ 0.72437319  0.5260204   0.05226753  0.51586905  0.71076813  0.83842862]]\n"
     ]
    }
   ],
   "source": [
    "arr = np.random.rand(6,6)\n",
    "print(arr)"
   ]
  },
  {
   "cell_type": "code",
   "execution_count": 88,
   "metadata": {},
   "outputs": [
    {
     "name": "stdout",
     "output_type": "stream",
     "text": [
      "[[ 0.02748613  0.80183338  0.98362064  0.83390233  0.30820675  0.62237232]]\n",
      "\n",
      "[[ 0.24180617  0.50848842  0.11817702  0.63971147  0.95449527  0.77232103]\n",
      " [ 0.65504176  0.33856181  0.58431342  0.11515941  0.50000158  0.56214734]]\n",
      "\n",
      "[[ 0.36666571  0.11613323  0.01241145  0.67861831  0.46134197  0.69705024]\n",
      " [ 0.68029107  0.12991374  0.98166857  0.5981871   0.80964768  0.44394885]\n",
      " [ 0.72437319  0.5260204   0.05226753  0.51586905  0.71076813  0.83842862]]\n"
     ]
    }
   ],
   "source": [
    "first, second, third = np.split(arr, [1,3], axis = 0)\n",
    "print(first)\n",
    "print()\n",
    "print(second)\n",
    "print()\n",
    "print(third)"
   ]
  },
  {
   "cell_type": "code",
   "execution_count": 89,
   "metadata": {
    "scrolled": true
   },
   "outputs": [
    {
     "name": "stdout",
     "output_type": "stream",
     "text": [
      "[[ 0.02748613]\n",
      " [ 0.24180617]\n",
      " [ 0.65504176]\n",
      " [ 0.36666571]\n",
      " [ 0.68029107]\n",
      " [ 0.72437319]]\n",
      "\n",
      "[[ 0.80183338  0.98362064]\n",
      " [ 0.50848842  0.11817702]\n",
      " [ 0.33856181  0.58431342]\n",
      " [ 0.11613323  0.01241145]\n",
      " [ 0.12991374  0.98166857]\n",
      " [ 0.5260204   0.05226753]]\n",
      "\n",
      "[[ 0.83390233  0.30820675  0.62237232]\n",
      " [ 0.63971147  0.95449527  0.77232103]\n",
      " [ 0.11515941  0.50000158  0.56214734]\n",
      " [ 0.67861831  0.46134197  0.69705024]\n",
      " [ 0.5981871   0.80964768  0.44394885]\n",
      " [ 0.51586905  0.71076813  0.83842862]]\n"
     ]
    }
   ],
   "source": [
    "first, second, third = np.split(arr, [1, 3], axis = 1)\n",
    "print(first)\n",
    "print()\n",
    "print(second)\n",
    "print()\n",
    "print(third)"
   ]
  },
  {
   "cell_type": "markdown",
   "metadata": {},
   "source": [
    "如果我们想要直接平均切分成三块呢？"
   ]
  },
  {
   "cell_type": "code",
   "execution_count": 90,
   "metadata": {},
   "outputs": [
    {
     "name": "stdout",
     "output_type": "stream",
     "text": [
      "<class 'list'>\n",
      "3\n",
      "[array([[ 0.02748613,  0.80183338],\n",
      "       [ 0.24180617,  0.50848842],\n",
      "       [ 0.65504176,  0.33856181],\n",
      "       [ 0.36666571,  0.11613323],\n",
      "       [ 0.68029107,  0.12991374],\n",
      "       [ 0.72437319,  0.5260204 ]]), array([[ 0.98362064,  0.83390233],\n",
      "       [ 0.11817702,  0.63971147],\n",
      "       [ 0.58431342,  0.11515941],\n",
      "       [ 0.01241145,  0.67861831],\n",
      "       [ 0.98166857,  0.5981871 ],\n",
      "       [ 0.05226753,  0.51586905]]), array([[ 0.30820675,  0.62237232],\n",
      "       [ 0.95449527,  0.77232103],\n",
      "       [ 0.50000158,  0.56214734],\n",
      "       [ 0.46134197,  0.69705024],\n",
      "       [ 0.80964768,  0.44394885],\n",
      "       [ 0.71076813,  0.83842862]])]\n"
     ]
    }
   ],
   "source": [
    "blocks = np.split(arr, 3, axis = 1)\n",
    "print(type(blocks)) # 我们会拿到一个list of ndarray\n",
    "print(len(blocks))\n",
    "print(blocks)"
   ]
  },
  {
   "cell_type": "markdown",
   "metadata": {},
   "source": [
    "堆叠辅助"
   ]
  },
  {
   "cell_type": "code",
   "execution_count": 91,
   "metadata": {
    "collapsed": true,
    "scrolled": true
   },
   "outputs": [],
   "source": [
    "arr = np.arange(6)\n",
    "arr1 = arr.reshape((3, 2))\n",
    "arr2 = np.random.randn(3, 2)"
   ]
  },
  {
   "cell_type": "markdown",
   "metadata": {},
   "source": [
    "r_用于按行堆叠"
   ]
  },
  {
   "cell_type": "code",
   "execution_count": 92,
   "metadata": {},
   "outputs": [
    {
     "name": "stdout",
     "output_type": "stream",
     "text": [
      "[[ 0.          1.        ]\n",
      " [ 2.          3.        ]\n",
      " [ 4.          5.        ]\n",
      " [ 1.72687736  1.39613883]\n",
      " [-0.48292151  1.21469352]\n",
      " [ 0.59093029  1.92159834]]\n",
      "\n"
     ]
    }
   ],
   "source": [
    "print(np.r_[arr1, arr2])\n",
    "print()"
   ]
  },
  {
   "cell_type": "markdown",
   "metadata": {},
   "source": [
    "c_用于按列堆叠"
   ]
  },
  {
   "cell_type": "code",
   "execution_count": 93,
   "metadata": {},
   "outputs": [
    {
     "name": "stdout",
     "output_type": "stream",
     "text": [
      "[[ 0.          1.          0.        ]\n",
      " [ 2.          3.          1.        ]\n",
      " [ 4.          5.          2.        ]\n",
      " [ 1.72687736  1.39613883  3.        ]\n",
      " [-0.48292151  1.21469352  4.        ]\n",
      " [ 0.59093029  1.92159834  5.        ]]\n",
      "\n"
     ]
    }
   ],
   "source": [
    "print(np.c_[np.r_[arr1, arr2], arr])\n",
    "print()"
   ]
  },
  {
   "cell_type": "markdown",
   "metadata": {},
   "source": [
    "切片直接转为数组"
   ]
  },
  {
   "cell_type": "code",
   "execution_count": 94,
   "metadata": {},
   "outputs": [
    {
     "name": "stdout",
     "output_type": "stream",
     "text": [
      "[[  1 -10]\n",
      " [  2  -9]\n",
      " [  3  -8]\n",
      " [  4  -7]\n",
      " [  5  -6]]\n",
      "\n"
     ]
    }
   ],
   "source": [
    "print(np.c_[1:6, -10:-5])\n",
    "print()"
   ]
  },
  {
   "cell_type": "markdown",
   "metadata": {},
   "source": [
    "使用repeat来重复ndarry中的元素"
   ]
  },
  {
   "cell_type": "markdown",
   "metadata": {},
   "source": [
    "按元素重复"
   ]
  },
  {
   "cell_type": "code",
   "execution_count": 95,
   "metadata": {},
   "outputs": [
    {
     "name": "stdout",
     "output_type": "stream",
     "text": [
      "[0 0 0 1 1 1 2 2 2]\n",
      "[0 0 1 1 1 2 2 2 2]\n",
      "\n"
     ]
    }
   ],
   "source": [
    "arr = np.arange(3)\n",
    "print(arr.repeat(3))\n",
    "print(arr.repeat([2,3,4]))\n",
    "print()"
   ]
  },
  {
   "cell_type": "markdown",
   "metadata": {},
   "source": [
    "指定axis来重复"
   ]
  },
  {
   "cell_type": "code",
   "execution_count": 72,
   "metadata": {},
   "outputs": [
    {
     "name": "stdout",
     "output_type": "stream",
     "text": [
      "[[ 0.01909565  0.27303844]\n",
      " [ 0.15173119  0.04216735]]\n"
     ]
    }
   ],
   "source": [
    "arr = np.random.rand(2,2)\n",
    "print(arr)"
   ]
  },
  {
   "cell_type": "code",
   "execution_count": 73,
   "metadata": {},
   "outputs": [
    {
     "name": "stdout",
     "output_type": "stream",
     "text": [
      "[[ 0.01909565  0.27303844]\n",
      " [ 0.01909565  0.27303844]\n",
      " [ 0.15173119  0.04216735]\n",
      " [ 0.15173119  0.04216735]]\n",
      "[[ 0.01909565  0.01909565  0.27303844  0.27303844]\n",
      " [ 0.15173119  0.15173119  0.04216735  0.04216735]]\n"
     ]
    }
   ],
   "source": [
    "print(arr.repeat(2, axis=0))\n",
    "print(arr.repeat(2, axis=1))"
   ]
  },
  {
   "cell_type": "markdown",
   "metadata": {},
   "source": [
    "Tile: 参考贴瓷砖\n",
    "[numpy tile](https://docs.scipy.org/doc/numpy/reference/generated/numpy.tile.html)"
   ]
  },
  {
   "cell_type": "code",
   "execution_count": 74,
   "metadata": {},
   "outputs": [
    {
     "name": "stdout",
     "output_type": "stream",
     "text": [
      "[[ 0.01909565  0.27303844  0.01909565  0.27303844]\n",
      " [ 0.15173119  0.04216735  0.15173119  0.04216735]]\n",
      "[[ 0.01909565  0.27303844  0.01909565  0.27303844  0.01909565  0.27303844]\n",
      " [ 0.15173119  0.04216735  0.15173119  0.04216735  0.15173119  0.04216735]\n",
      " [ 0.01909565  0.27303844  0.01909565  0.27303844  0.01909565  0.27303844]\n",
      " [ 0.15173119  0.04216735  0.15173119  0.04216735  0.15173119  0.04216735]]\n"
     ]
    }
   ],
   "source": [
    "print(np.tile(arr, 2))\n",
    "print(np.tile(arr, (2,3)))"
   ]
  },
  {
   "cell_type": "markdown",
   "metadata": {},
   "source": [
    "## numpy的文件输入输出\n",
    "### 七月在线python数据分析集训营 julyedu.com"
   ]
  },
  {
   "cell_type": "markdown",
   "metadata": {},
   "source": [
    "读取csv文件作为数组"
   ]
  },
  {
   "cell_type": "code",
   "execution_count": 1,
   "metadata": {},
   "outputs": [
    {
     "name": "stdout",
     "output_type": "stream",
     "text": [
      "[[ 0.580052  0.18673   1.040717  1.134411]\n",
      " [ 0.194163 -0.636917 -0.938659  0.124094]\n",
      " [-0.12641   0.268607 -0.695724  0.047428]\n",
      " [-1.484413  0.004176 -0.744203  0.005487]\n",
      " [ 2.302869  0.200131  1.670238 -1.88109 ]\n",
      " [-0.19323   1.047233  0.482803  0.960334]]\n"
     ]
    }
   ],
   "source": [
    "import numpy as np\n",
    "arr = np.loadtxt('array_ex.txt', delimiter=',')\n",
    "print(arr)"
   ]
  },
  {
   "cell_type": "markdown",
   "metadata": {},
   "source": [
    "数组文件读写"
   ]
  },
  {
   "cell_type": "code",
   "execution_count": 3,
   "metadata": {
    "collapsed": true
   },
   "outputs": [],
   "source": [
    "arr = np.arange(10)\n",
    "np.save('some_array', arr)"
   ]
  },
  {
   "cell_type": "code",
   "execution_count": 4,
   "metadata": {},
   "outputs": [
    {
     "name": "stdout",
     "output_type": "stream",
     "text": [
      "[0 1 2 3 4 5 6 7 8 9]\n"
     ]
    }
   ],
   "source": [
    "print(np.load('some_array.npy'))"
   ]
  },
  {
   "cell_type": "markdown",
   "metadata": {},
   "source": [
    "多个数组可以一起压缩存储"
   ]
  },
  {
   "cell_type": "code",
   "execution_count": 5,
   "metadata": {
    "collapsed": true
   },
   "outputs": [],
   "source": [
    "arr2 = np.arange(15).reshape(3,5)\n",
    "np.savez('array_archive.npz', a=arr, b=arr2)"
   ]
  },
  {
   "cell_type": "code",
   "execution_count": 6,
   "metadata": {},
   "outputs": [
    {
     "name": "stdout",
     "output_type": "stream",
     "text": [
      "[0 1 2 3 4 5 6 7 8 9]\n",
      "[[ 0  1  2  3  4]\n",
      " [ 5  6  7  8  9]\n",
      " [10 11 12 13 14]]\n"
     ]
    }
   ],
   "source": [
    "arch = np.load('array_archive.npz')\n",
    "print(arch['a'])\n",
    "print(arch['b'])"
   ]
  },
  {
   "cell_type": "markdown",
   "metadata": {},
   "source": [
    "## numpy和scipy的相关数学运算\n",
    "### 七月在线python数据分析集训营 julyedu.com"
   ]
  },
  {
   "cell_type": "code",
   "execution_count": 7,
   "metadata": {
    "collapsed": true
   },
   "outputs": [],
   "source": [
    "import numpy as np"
   ]
  },
  {
   "cell_type": "markdown",
   "metadata": {},
   "source": [
    "那如果我要做矩阵的乘法运算怎么办！！！恩，别着急，照着下面写就可以了:\n",
    "\n",
    "[matrix multiplication](http://mathworld.wolfram.com/MatrixMultiplication.html)"
   ]
  },
  {
   "cell_type": "code",
   "execution_count": 8,
   "metadata": {},
   "outputs": [
    {
     "name": "stdout",
     "output_type": "stream",
     "text": [
      "[[ 1.  2.]\n",
      " [ 3.  4.]]\n",
      "[[ 5.  6.]\n",
      " [ 7.  8.]]\n"
     ]
    }
   ],
   "source": [
    "x = np.array([[1,2],[3,4]], dtype=np.float64)\n",
    "y = np.array([[5,6],[7,8]], dtype=np.float64)\n",
    "v = np.array([9,10])\n",
    "w = np.array([11, 12])\n",
    "print(x)\n",
    "print(y)"
   ]
  },
  {
   "cell_type": "markdown",
   "metadata": {},
   "source": [
    "求向量内积"
   ]
  },
  {
   "cell_type": "code",
   "execution_count": 9,
   "metadata": {},
   "outputs": [
    {
     "name": "stdout",
     "output_type": "stream",
     "text": [
      "219\n",
      "219\n"
     ]
    }
   ],
   "source": [
    "print(v.dot(w))\n",
    "print(np.dot(v, w))"
   ]
  },
  {
   "cell_type": "markdown",
   "metadata": {},
   "source": [
    "矩阵的乘法"
   ]
  },
  {
   "cell_type": "code",
   "execution_count": 10,
   "metadata": {},
   "outputs": [
    {
     "name": "stdout",
     "output_type": "stream",
     "text": [
      "[ 29.  67.]\n",
      "[ 29.  67.]\n"
     ]
    }
   ],
   "source": [
    "print(x.dot(v))\n",
    "print(np.dot(x, v))"
   ]
  },
  {
   "cell_type": "code",
   "execution_count": 11,
   "metadata": {
    "scrolled": true
   },
   "outputs": [
    {
     "name": "stdout",
     "output_type": "stream",
     "text": [
      "[[ 19.  22.]\n",
      " [ 43.  50.]]\n",
      "[[ 19.  22.]\n",
      " [ 43.  50.]]\n"
     ]
    }
   ],
   "source": [
    "print(x.dot(y))\n",
    "print(np.dot(x, y))"
   ]
  },
  {
   "cell_type": "markdown",
   "metadata": {},
   "source": [
    "向量的内积[inner](https://docs.scipy.org/doc/numpy-1.13.0/reference/generated/numpy.inner.html#numpy.inner)"
   ]
  },
  {
   "cell_type": "code",
   "execution_count": 12,
   "metadata": {},
   "outputs": [
    {
     "data": {
      "text/plain": [
       "array([[ 17.,  23.],\n",
       "       [ 39.,  53.]])"
      ]
     },
     "execution_count": 12,
     "metadata": {},
     "output_type": "execute_result"
    }
   ],
   "source": [
    "np.inner(x, y)"
   ]
  },
  {
   "cell_type": "code",
   "execution_count": 13,
   "metadata": {},
   "outputs": [
    {
     "data": {
      "text/plain": [
       "array([[[ 14,  38,  62],\n",
       "        [ 38, 126, 214],\n",
       "        [ 62, 214, 366]],\n",
       "\n",
       "       [[ 86, 302, 518],\n",
       "        [110, 390, 670],\n",
       "        [134, 478, 822]]])"
      ]
     },
     "execution_count": 13,
     "metadata": {},
     "output_type": "execute_result"
    }
   ],
   "source": [
    "X = np.arange(24).reshape(2,3,4)\n",
    "Y = np.arange(12).reshape(3,4)\n",
    "np.inner(X, Y)"
   ]
  },
  {
   "cell_type": "code",
   "execution_count": 14,
   "metadata": {},
   "outputs": [
    {
     "data": {
      "text/plain": [
       "(2, 3, 4)"
      ]
     },
     "execution_count": 14,
     "metadata": {},
     "output_type": "execute_result"
    }
   ],
   "source": [
    "X = np.arange(24).reshape(2,3,4)\n",
    "Y = np.arange(16).reshape(4,4)\n",
    "np.inner(X, Y).shape"
   ]
  },
  {
   "cell_type": "markdown",
   "metadata": {
    "collapsed": true
   },
   "source": [
    "转置和数学公式一样，简单粗暴"
   ]
  },
  {
   "cell_type": "code",
   "execution_count": 15,
   "metadata": {},
   "outputs": [
    {
     "name": "stdout",
     "output_type": "stream",
     "text": [
      "[[ 1.  2.]\n",
      " [ 3.  4.]]\n",
      "[[ 1.  3.]\n",
      " [ 2.  4.]]\n"
     ]
    }
   ],
   "source": [
    "print(x)\n",
    "print(x.T)"
   ]
  },
  {
   "cell_type": "code",
   "execution_count": 16,
   "metadata": {},
   "outputs": [
    {
     "ename": "SyntaxError",
     "evalue": "invalid character in identifier (<ipython-input-16-378d2b0ccc75>, line 1)",
     "output_type": "error",
     "traceback": [
      "\u001b[0;36m  File \u001b[0;32m\"<ipython-input-16-378d2b0ccc75>\"\u001b[0;36m, line \u001b[0;32m1\u001b[0m\n\u001b[0;31m    需要说明一下，1维的vector转置还是自己\u001b[0m\n\u001b[0m                         ^\u001b[0m\n\u001b[0;31mSyntaxError\u001b[0m\u001b[0;31m:\u001b[0m invalid character in identifier\n"
     ]
    }
   ],
   "source": [
    "需要说明一下，1维的vector转置还是自己"
   ]
  },
  {
   "cell_type": "code",
   "execution_count": 17,
   "metadata": {},
   "outputs": [
    {
     "name": "stdout",
     "output_type": "stream",
     "text": [
      "[1 2 3]\n",
      "[1 2 3]\n"
     ]
    }
   ],
   "source": [
    "v = np.array([1,2,3])\n",
    "print(v)\n",
    "print(v.T)"
   ]
  },
  {
   "cell_type": "markdown",
   "metadata": {},
   "source": [
    "2维的就不一样了"
   ]
  },
  {
   "cell_type": "code",
   "execution_count": 18,
   "metadata": {},
   "outputs": [
    {
     "name": "stdout",
     "output_type": "stream",
     "text": [
      "[[1 2 3]]\n",
      "[[1]\n",
      " [2]\n",
      " [3]]\n"
     ]
    }
   ],
   "source": [
    "w = np.array([[1,2,3]])\n",
    "print(w)\n",
    "print(w.T)"
   ]
  },
  {
   "cell_type": "markdown",
   "metadata": {},
   "source": [
    "利用转置矩阵做dot product"
   ]
  },
  {
   "cell_type": "code",
   "execution_count": 19,
   "metadata": {},
   "outputs": [
    {
     "name": "stdout",
     "output_type": "stream",
     "text": [
      "[[  3.25570055   0.34061858  -0.66837506]\n",
      " [  0.34061858   4.34204493  -0.08812162]\n",
      " [ -0.66837506  -0.08812162  12.28257546]]\n"
     ]
    }
   ],
   "source": [
    "arr = np.random.randn(6,3)\n",
    "print(np.dot(arr.T, arr))"
   ]
  },
  {
   "cell_type": "code",
   "execution_count": 20,
   "metadata": {},
   "outputs": [
    {
     "ename": "ValueError",
     "evalue": "shapes (6,3) and (6,3) not aligned: 3 (dim 1) != 6 (dim 0)",
     "output_type": "error",
     "traceback": [
      "\u001b[0;31m---------------------------------------------------------------------------\u001b[0m",
      "\u001b[0;31mValueError\u001b[0m                                Traceback (most recent call last)",
      "\u001b[0;32m<ipython-input-20-6fc928e50bb5>\u001b[0m in \u001b[0;36m<module>\u001b[0;34m()\u001b[0m\n\u001b[0;32m----> 1\u001b[0;31m \u001b[0mprint\u001b[0m\u001b[0;34m(\u001b[0m\u001b[0mnp\u001b[0m\u001b[0;34m.\u001b[0m\u001b[0mdot\u001b[0m\u001b[0;34m(\u001b[0m\u001b[0marr\u001b[0m\u001b[0;34m,\u001b[0m \u001b[0marr\u001b[0m\u001b[0;34m)\u001b[0m\u001b[0;34m)\u001b[0m\u001b[0;34m\u001b[0m\u001b[0m\n\u001b[0m",
      "\u001b[0;31mValueError\u001b[0m: shapes (6,3) and (6,3) not aligned: 3 (dim 1) != 6 (dim 0)"
     ]
    }
   ],
   "source": [
    "print(np.dot(arr, arr))"
   ]
  },
  {
   "cell_type": "markdown",
   "metadata": {},
   "source": [
    "高维的tensor也可以做转置"
   ]
  },
  {
   "cell_type": "code",
   "execution_count": 21,
   "metadata": {},
   "outputs": [
    {
     "name": "stdout",
     "output_type": "stream",
     "text": [
      "[[[ 0  1  2  3]\n",
      "  [ 4  5  6  7]]\n",
      "\n",
      " [[ 8  9 10 11]\n",
      "  [12 13 14 15]]]\n"
     ]
    }
   ],
   "source": [
    "arr = np.arange(16).reshape((2, 2, 4))\n",
    "print(arr)"
   ]
  },
  {
   "cell_type": "code",
   "execution_count": 22,
   "metadata": {},
   "outputs": [
    {
     "name": "stdout",
     "output_type": "stream",
     "text": [
      "[[[ 0  1  2  3]\n",
      "  [ 8  9 10 11]]\n",
      "\n",
      " [[ 4  5  6  7]\n",
      "  [12 13 14 15]]]\n"
     ]
    }
   ],
   "source": [
    "print(arr.transpose((1,0,2)))"
   ]
  },
  {
   "cell_type": "code",
   "execution_count": 23,
   "metadata": {},
   "outputs": [
    {
     "name": "stdout",
     "output_type": "stream",
     "text": [
      "[[[ 0  4]\n",
      "  [ 1  5]\n",
      "  [ 2  6]\n",
      "  [ 3  7]]\n",
      "\n",
      " [[ 8 12]\n",
      "  [ 9 13]\n",
      "  [10 14]\n",
      "  [11 15]]]\n"
     ]
    }
   ],
   "source": [
    "print(arr.swapaxes(1,2))"
   ]
  },
  {
   "cell_type": "markdown",
   "metadata": {},
   "source": [
    "### [matmul](https://docs.scipy.org/doc/numpy-1.13.0/reference/generated/numpy.matmul.html#numpy.matmul)\n",
    "\n",
    "非常常用，用于计算矩阵乘法"
   ]
  },
  {
   "cell_type": "code",
   "execution_count": 24,
   "metadata": {
    "collapsed": true
   },
   "outputs": [],
   "source": [
    "import numpy as np"
   ]
  },
  {
   "cell_type": "code",
   "execution_count": 25,
   "metadata": {},
   "outputs": [
    {
     "name": "stdout",
     "output_type": "stream",
     "text": [
      "[[[ 28  34]\n",
      "  [ 76  98]\n",
      "  [124 162]]\n",
      "\n",
      " [[172 226]\n",
      "  [220 290]\n",
      "  [268 354]]]\n"
     ]
    }
   ],
   "source": [
    "x = np.arange(24).reshape(2,3,4)\n",
    "y = np.arange(8).reshape(4,2)\n",
    "print(np.matmul(x,y))"
   ]
  },
  {
   "cell_type": "code",
   "execution_count": 26,
   "metadata": {},
   "outputs": [
    {
     "name": "stdout",
     "output_type": "stream",
     "text": [
      "[[[ 28  34]\n",
      "  [ 76  98]\n",
      "  [124 162]]\n",
      "\n",
      " [[172 226]\n",
      "  [220 290]\n",
      "  [268 354]]]\n"
     ]
    }
   ],
   "source": [
    "print(np.dot(x, y))"
   ]
  },
  {
   "cell_type": "code",
   "execution_count": 27,
   "metadata": {},
   "outputs": [
    {
     "name": "stdout",
     "output_type": "stream",
     "text": [
      "[[ 28  34]\n",
      " [ 76  98]\n",
      " [124 162]]\n",
      "[[172 226]\n",
      " [220 290]\n",
      " [268 354]]\n"
     ]
    }
   ],
   "source": [
    "x1 = np.arange(12).reshape(3,4)\n",
    "print(np.matmul(x1, y))\n",
    "x2 = np.arange(12,24).reshape(3,4)\n",
    "print(np.matmul(x2, y))"
   ]
  },
  {
   "cell_type": "code",
   "execution_count": 28,
   "metadata": {},
   "outputs": [
    {
     "name": "stdout",
     "output_type": "stream",
     "text": [
      "(2, 3, 2, 2)\n"
     ]
    }
   ],
   "source": [
    "y = np.arange(16).reshape(2,4,2)\n",
    "print(x.dot(y).shape)"
   ]
  },
  {
   "cell_type": "code",
   "execution_count": 29,
   "metadata": {},
   "outputs": [
    {
     "name": "stdout",
     "output_type": "stream",
     "text": [
      "(2, 3, 2)\n"
     ]
    }
   ],
   "source": [
    "print(np.matmul(x,y).shape)"
   ]
  },
  {
   "cell_type": "code",
   "execution_count": 30,
   "metadata": {},
   "outputs": [
    {
     "name": "stdout",
     "output_type": "stream",
     "text": [
      "[[[  28   34]\n",
      "  [  76   98]\n",
      "  [ 124  162]]\n",
      "\n",
      " [[ 604  658]\n",
      "  [ 780  850]\n",
      "  [ 956 1042]]]\n"
     ]
    }
   ],
   "source": [
    "x = np.arange(24).reshape(2,3,4)\n",
    "y = np.arange(16).reshape(2,4,2)\n",
    "print(np.matmul(x,y))"
   ]
  },
  {
   "cell_type": "code",
   "execution_count": 31,
   "metadata": {},
   "outputs": [
    {
     "name": "stdout",
     "output_type": "stream",
     "text": [
      "[[[ 28  34]\n",
      "  [ 76  98]\n",
      "  [124 162]]\n",
      "\n",
      " [[172 226]\n",
      "  [220 290]\n",
      "  [268 354]]]\n"
     ]
    }
   ],
   "source": [
    "x = np.arange(24).reshape(2,3,4) \n",
    "y = np.arange(8).reshape(1,4,2)\n",
    "print(np.matmul(x,y))"
   ]
  },
  {
   "cell_type": "code",
   "execution_count": 32,
   "metadata": {},
   "outputs": [
    {
     "name": "stdout",
     "output_type": "stream",
     "text": [
      "x [[ 0  1  2  3]\n",
      " [ 4  5  6  7]\n",
      " [ 8  9 10 11]] [[12 13 14 15]\n",
      " [16 17 18 19]\n",
      " [20 21 22 23]]\n",
      "[[[0 1]\n",
      "  [2 3]\n",
      "  [4 5]\n",
      "  [6 7]]]\n"
     ]
    }
   ],
   "source": [
    "print(\"x\", x[0], x[1])\n",
    "print(y)"
   ]
  },
  {
   "cell_type": "markdown",
   "metadata": {},
   "source": [
    "### [outer product](https://docs.scipy.org/doc/numpy-1.13.0/reference/generated/numpy.outer.html)\n",
    "\n",
    "与数学中的定义一样，outer product就是两个向量酸外积，变成了一个矩阵"
   ]
  },
  {
   "cell_type": "code",
   "execution_count": 33,
   "metadata": {},
   "outputs": [
    {
     "data": {
      "text/plain": [
       "array([[-10., -15., -20.],\n",
       "       [  0.,   0.,   0.],\n",
       "       [ 10.,  15.,  20.]])"
      ]
     },
     "execution_count": 33,
     "metadata": {},
     "output_type": "execute_result"
    }
   ],
   "source": [
    "a = np.linspace(-5,5,3)\n",
    "b = np.arange(2,5)\n",
    "np.outer(a, b)"
   ]
  },
  {
   "cell_type": "code",
   "execution_count": null,
   "metadata": {
    "collapsed": true
   },
   "outputs": [],
   "source": []
  },
  {
   "cell_type": "markdown",
   "metadata": {},
   "source": [
    "### 一些更高级的线性代数操作"
   ]
  },
  {
   "cell_type": "markdown",
   "metadata": {},
   "source": [
    "计算determinant"
   ]
  },
  {
   "cell_type": "code",
   "execution_count": 34,
   "metadata": {},
   "outputs": [
    {
     "data": {
      "text/plain": [
       "-9.0000000000000018"
      ]
     },
     "execution_count": 34,
     "metadata": {},
     "output_type": "execute_result"
    }
   ],
   "source": [
    "x = np.array([[1, 5], [2, 1]])\n",
    "np.linalg.det(x)"
   ]
  },
  {
   "cell_type": "markdown",
   "metadata": {},
   "source": [
    "计算inverse"
   ]
  },
  {
   "cell_type": "code",
   "execution_count": 35,
   "metadata": {},
   "outputs": [
    {
     "name": "stdout",
     "output_type": "stream",
     "text": [
      "x_inv [[-0.11111111  0.55555556]\n",
      " [ 0.22222222 -0.11111111]]\n"
     ]
    },
    {
     "data": {
      "text/plain": [
       "array([[  1.00000000e+00,   5.55111512e-17],\n",
       "       [  0.00000000e+00,   1.00000000e+00]])"
      ]
     },
     "execution_count": 35,
     "metadata": {},
     "output_type": "execute_result"
    }
   ],
   "source": [
    "x_inv = np.linalg.inv(x)\n",
    "print(\"x_inv\", x_inv)\n",
    "np.dot(x, x_inv)"
   ]
  },
  {
   "cell_type": "markdown",
   "metadata": {},
   "source": [
    "计算pseudo-inverse"
   ]
  },
  {
   "cell_type": "code",
   "execution_count": 36,
   "metadata": {},
   "outputs": [
    {
     "data": {
      "text/plain": [
       "0.0"
      ]
     },
     "execution_count": 36,
     "metadata": {},
     "output_type": "execute_result"
    }
   ],
   "source": [
    "x = np.array([[1,2,3], [2,4,6], [1,3,5]])\n",
    "np.linalg.det(x)"
   ]
  },
  {
   "cell_type": "code",
   "execution_count": 37,
   "metadata": {},
   "outputs": [
    {
     "ename": "LinAlgError",
     "evalue": "Singular matrix",
     "output_type": "error",
     "traceback": [
      "\u001b[0;31m---------------------------------------------------------------------------\u001b[0m",
      "\u001b[0;31mLinAlgError\u001b[0m                               Traceback (most recent call last)",
      "\u001b[0;32m<ipython-input-37-14ddc37920d7>\u001b[0m in \u001b[0;36m<module>\u001b[0;34m()\u001b[0m\n\u001b[0;32m----> 1\u001b[0;31m \u001b[0mx_inv\u001b[0m \u001b[0;34m=\u001b[0m \u001b[0mnp\u001b[0m\u001b[0;34m.\u001b[0m\u001b[0mlinalg\u001b[0m\u001b[0;34m.\u001b[0m\u001b[0minv\u001b[0m\u001b[0;34m(\u001b[0m\u001b[0mx\u001b[0m\u001b[0;34m)\u001b[0m\u001b[0;34m\u001b[0m\u001b[0m\n\u001b[0m",
      "\u001b[0;32m~/anaconda3/envs/py36/lib/python3.6/site-packages/numpy/linalg/linalg.py\u001b[0m in \u001b[0;36minv\u001b[0;34m(a)\u001b[0m\n\u001b[1;32m    511\u001b[0m     \u001b[0msignature\u001b[0m \u001b[0;34m=\u001b[0m \u001b[0;34m'D->D'\u001b[0m \u001b[0;32mif\u001b[0m \u001b[0misComplexType\u001b[0m\u001b[0;34m(\u001b[0m\u001b[0mt\u001b[0m\u001b[0;34m)\u001b[0m \u001b[0;32melse\u001b[0m \u001b[0;34m'd->d'\u001b[0m\u001b[0;34m\u001b[0m\u001b[0m\n\u001b[1;32m    512\u001b[0m     \u001b[0mextobj\u001b[0m \u001b[0;34m=\u001b[0m \u001b[0mget_linalg_error_extobj\u001b[0m\u001b[0;34m(\u001b[0m\u001b[0m_raise_linalgerror_singular\u001b[0m\u001b[0;34m)\u001b[0m\u001b[0;34m\u001b[0m\u001b[0m\n\u001b[0;32m--> 513\u001b[0;31m     \u001b[0mainv\u001b[0m \u001b[0;34m=\u001b[0m \u001b[0m_umath_linalg\u001b[0m\u001b[0;34m.\u001b[0m\u001b[0minv\u001b[0m\u001b[0;34m(\u001b[0m\u001b[0ma\u001b[0m\u001b[0;34m,\u001b[0m \u001b[0msignature\u001b[0m\u001b[0;34m=\u001b[0m\u001b[0msignature\u001b[0m\u001b[0;34m,\u001b[0m \u001b[0mextobj\u001b[0m\u001b[0;34m=\u001b[0m\u001b[0mextobj\u001b[0m\u001b[0;34m)\u001b[0m\u001b[0;34m\u001b[0m\u001b[0m\n\u001b[0m\u001b[1;32m    514\u001b[0m     \u001b[0;32mreturn\u001b[0m \u001b[0mwrap\u001b[0m\u001b[0;34m(\u001b[0m\u001b[0mainv\u001b[0m\u001b[0;34m.\u001b[0m\u001b[0mastype\u001b[0m\u001b[0;34m(\u001b[0m\u001b[0mresult_t\u001b[0m\u001b[0;34m,\u001b[0m \u001b[0mcopy\u001b[0m\u001b[0;34m=\u001b[0m\u001b[0;32mFalse\u001b[0m\u001b[0;34m)\u001b[0m\u001b[0;34m)\u001b[0m\u001b[0;34m\u001b[0m\u001b[0m\n\u001b[1;32m    515\u001b[0m \u001b[0;34m\u001b[0m\u001b[0m\n",
      "\u001b[0;32m~/anaconda3/envs/py36/lib/python3.6/site-packages/numpy/linalg/linalg.py\u001b[0m in \u001b[0;36m_raise_linalgerror_singular\u001b[0;34m(err, flag)\u001b[0m\n\u001b[1;32m     88\u001b[0m \u001b[0;34m\u001b[0m\u001b[0m\n\u001b[1;32m     89\u001b[0m \u001b[0;32mdef\u001b[0m \u001b[0m_raise_linalgerror_singular\u001b[0m\u001b[0;34m(\u001b[0m\u001b[0merr\u001b[0m\u001b[0;34m,\u001b[0m \u001b[0mflag\u001b[0m\u001b[0;34m)\u001b[0m\u001b[0;34m:\u001b[0m\u001b[0;34m\u001b[0m\u001b[0m\n\u001b[0;32m---> 90\u001b[0;31m     \u001b[0;32mraise\u001b[0m \u001b[0mLinAlgError\u001b[0m\u001b[0;34m(\u001b[0m\u001b[0;34m\"Singular matrix\"\u001b[0m\u001b[0;34m)\u001b[0m\u001b[0;34m\u001b[0m\u001b[0m\n\u001b[0m\u001b[1;32m     91\u001b[0m \u001b[0;34m\u001b[0m\u001b[0m\n\u001b[1;32m     92\u001b[0m \u001b[0;32mdef\u001b[0m \u001b[0m_raise_linalgerror_nonposdef\u001b[0m\u001b[0;34m(\u001b[0m\u001b[0merr\u001b[0m\u001b[0;34m,\u001b[0m \u001b[0mflag\u001b[0m\u001b[0;34m)\u001b[0m\u001b[0;34m:\u001b[0m\u001b[0;34m\u001b[0m\u001b[0m\n",
      "\u001b[0;31mLinAlgError\u001b[0m: Singular matrix"
     ]
    }
   ],
   "source": [
    "x_inv = np.linalg.inv(x)"
   ]
  },
  {
   "cell_type": "code",
   "execution_count": 38,
   "metadata": {
    "scrolled": true
   },
   "outputs": [
    {
     "name": "stdout",
     "output_type": "stream",
     "text": [
      "x_pinv [[ 0.43333333  0.86666667 -1.33333333]\n",
      " [ 0.13333333  0.26666667 -0.33333333]\n",
      " [-0.16666667 -0.33333333  0.66666667]]\n"
     ]
    }
   ],
   "source": [
    "x_pinv = np.linalg.pinv(x)\n",
    "print(\"x_pinv\", x_pinv)"
   ]
  },
  {
   "cell_type": "code",
   "execution_count": 39,
   "metadata": {},
   "outputs": [
    {
     "data": {
      "text/plain": [
       "array([[  2.00000000e-01,   4.00000000e-01,   0.00000000e+00],\n",
       "       [  4.00000000e-01,   8.00000000e-01,   0.00000000e+00],\n",
       "       [  1.11022302e-16,   0.00000000e+00,   1.00000000e+00]])"
      ]
     },
     "execution_count": 39,
     "metadata": {},
     "output_type": "execute_result"
    }
   ],
   "source": [
    "np.dot(x, x_pinv)"
   ]
  },
  {
   "cell_type": "markdown",
   "metadata": {},
   "source": [
    "计算Matrix的[norm](https://docs.scipy.org/doc/numpy-1.13.0/reference/generated/numpy.linalg.norm.html#numpy.linalg.norm)"
   ]
  },
  {
   "cell_type": "code",
   "execution_count": 40,
   "metadata": {},
   "outputs": [
    {
     "data": {
      "text/plain": [
       "31.859064644147981"
      ]
     },
     "execution_count": 40,
     "metadata": {},
     "output_type": "execute_result"
    }
   ],
   "source": [
    "x = np.arange(15).reshape(3,5)\n",
    "np.linalg.norm(x, \"fro\")"
   ]
  },
  {
   "cell_type": "code",
   "execution_count": 41,
   "metadata": {},
   "outputs": [
    {
     "data": {
      "text/plain": [
       "31.859064644147981"
      ]
     },
     "execution_count": 41,
     "metadata": {},
     "output_type": "execute_result"
    }
   ],
   "source": [
    "np.sqrt(np.sum(x**2))"
   ]
  },
  {
   "cell_type": "code",
   "execution_count": 42,
   "metadata": {},
   "outputs": [
    {
     "data": {
      "text/plain": [
       "60.0"
      ]
     },
     "execution_count": 42,
     "metadata": {},
     "output_type": "execute_result"
    }
   ],
   "source": [
    "np.linalg.norm(x, np.inf)"
   ]
  },
  {
   "cell_type": "markdown",
   "metadata": {},
   "source": [
    "计算singular value decomposition (SVD)"
   ]
  },
  {
   "cell_type": "code",
   "execution_count": 43,
   "metadata": {
    "collapsed": true
   },
   "outputs": [],
   "source": [
    "U, s, V = np.linalg.svd(x)"
   ]
  },
  {
   "cell_type": "code",
   "execution_count": 44,
   "metadata": {},
   "outputs": [
    {
     "data": {
      "text/plain": [
       "array([[  1.00000000e+00,   0.00000000e+00,  -2.77555756e-17],\n",
       "       [  0.00000000e+00,   1.00000000e+00,  -5.55111512e-17],\n",
       "       [ -2.77555756e-17,  -5.55111512e-17,   1.00000000e+00]])"
      ]
     },
     "execution_count": 44,
     "metadata": {},
     "output_type": "execute_result"
    }
   ],
   "source": [
    "np.dot(U, U.T)"
   ]
  },
  {
   "cell_type": "code",
   "execution_count": 45,
   "metadata": {},
   "outputs": [
    {
     "data": {
      "text/plain": [
       "array([[  1.00000000e+00,  -1.07948583e-16,   5.91865369e-17,\n",
       "         -4.17545215e-17,  -4.14054997e-17],\n",
       "       [ -1.07948583e-16,   1.00000000e+00,  -1.25162789e-16,\n",
       "         -1.68536677e-17,   5.08778614e-18],\n",
       "       [  5.91865369e-17,  -1.25162789e-16,   1.00000000e+00,\n",
       "          4.99764062e-17,  -8.35727138e-17],\n",
       "       [ -4.17545215e-17,  -1.68536677e-17,   4.99764062e-17,\n",
       "          1.00000000e+00,  -8.67263621e-17],\n",
       "       [ -4.14054997e-17,   5.08778614e-18,  -8.35727138e-17,\n",
       "         -8.67263621e-17,   1.00000000e+00]])"
      ]
     },
     "execution_count": 45,
     "metadata": {},
     "output_type": "execute_result"
    }
   ],
   "source": [
    "np.dot(V, V.T)"
   ]
  },
  {
   "cell_type": "code",
   "execution_count": 46,
   "metadata": {},
   "outputs": [
    {
     "data": {
      "text/plain": [
       "array([  3.17420265e+01,   2.72832424e+00,   8.33338143e-16])"
      ]
     },
     "execution_count": 46,
     "metadata": {},
     "output_type": "execute_result"
    }
   ],
   "source": [
    "s"
   ]
  },
  {
   "cell_type": "markdown",
   "metadata": {},
   "source": [
    "\n",
    "## 随堂小项目\n",
    "\n",
    "### 七月在线python数据分析集训营 julyedu.com\n",
    "\n",
    "用numpy写一个softmax\n",
    "\n",
    "[什么是softmax?](http://cs231n.github.io/linear-classify/#softmax)"
   ]
  },
  {
   "cell_type": "markdown",
   "metadata": {},
   "source": [
    "一维softmax"
   ]
  },
  {
   "cell_type": "code",
   "execution_count": 99,
   "metadata": {},
   "outputs": [
    {
     "data": {
      "text/plain": [
       "array([ 0.60621965,  0.30030324,  0.89137532,  0.71493725,  0.13655471,\n",
       "        0.08581598,  0.54112516,  0.4707926 ,  0.35316744,  0.35783616])"
      ]
     },
     "execution_count": 99,
     "metadata": {},
     "output_type": "execute_result"
    }
   ],
   "source": [
    "import numpy as np\n",
    "x = np.random.random(10)\n",
    "x"
   ]
  },
  {
   "cell_type": "code",
   "execution_count": 101,
   "metadata": {},
   "outputs": [
    {
     "data": {
      "text/plain": [
       "array([ 1.83348706,  1.3502682 ,  2.43848103,  2.04405842,  1.14631759,\n",
       "        1.0896058 ,  1.71793872,  1.60126285,  1.42356949,  1.43023128])"
      ]
     },
     "execution_count": 101,
     "metadata": {},
     "output_type": "execute_result"
    }
   ],
   "source": [
    "np.exp(x)"
   ]
  },
  {
   "cell_type": "code",
   "execution_count": 102,
   "metadata": {},
   "outputs": [
    {
     "data": {
      "text/plain": [
       "16.075220445857994"
      ]
     },
     "execution_count": 102,
     "metadata": {},
     "output_type": "execute_result"
    }
   ],
   "source": [
    "np.sum(np.exp(x))"
   ]
  },
  {
   "cell_type": "code",
   "execution_count": 100,
   "metadata": {},
   "outputs": [
    {
     "data": {
      "text/plain": [
       "array([ 0.11405673,  0.08399687,  0.15169192,  0.12715586,  0.0713096 ,\n",
       "        0.0677817 ,  0.10686875,  0.09961063,  0.08855676,  0.08897118])"
      ]
     },
     "execution_count": 100,
     "metadata": {},
     "output_type": "execute_result"
    }
   ],
   "source": [
    "np.exp(x) / np.sum(np.exp(x))"
   ]
  },
  {
   "cell_type": "code",
   "execution_count": 48,
   "metadata": {},
   "outputs": [
    {
     "name": "stdout",
     "output_type": "stream",
     "text": [
      "[[ 1009.03960456  1000.28966207  1007.0243779   1005.12220239\n",
      "   1002.88437093  1008.84302621  1009.51564452  1004.52647942\n",
      "   1007.62835009  1008.12790242]\n",
      " [ 1003.55735494  1001.23541286  1007.98665582  1009.49467382\n",
      "   1002.31208185  1007.62423241  1007.39623205  1004.85250709\n",
      "   1008.49656807  1003.80373337]\n",
      " [ 1009.55551008  1001.83598146  1000.82767674  1009.83673379\n",
      "   1000.46585151  1002.29082922  1008.02347323  1001.54300225  1002.5740486\n",
      "   1003.26800962]\n",
      " [ 1003.98037258  1008.25950365  1000.73334725  1006.18337055\n",
      "   1005.91710081  1003.29850781  1009.37108919  1000.71425167\n",
      "   1006.56877464  1004.29557635]\n",
      " [ 1009.52417036  1005.76606876  1001.65168779  1000.34081781\n",
      "   1003.53449811  1002.72862727  1000.80267248  1009.70808009\n",
      "   1007.96610372  1000.50550359]\n",
      " [ 1005.48887008  1002.22319984  1000.76703623  1005.11631226\n",
      "   1006.19447414  1006.16004298  1001.07526485  1005.16117179\n",
      "   1001.39018188  1002.61539398]\n",
      " [ 1004.08661371  1003.84655825  1003.65662011  1000.81745635\n",
      "   1006.05343756  1005.86074863  1009.81171013  1003.1970601   1003.3602387\n",
      "   1007.25948129]\n",
      " [ 1001.52682237  1009.01222274  1005.9308933   1009.42206593\n",
      "   1001.90505273  1001.93671271  1005.26838395  1004.79170226\n",
      "   1003.69677991  1007.48275556]\n",
      " [ 1002.05268084  1007.16277577  1009.38249775  1008.39492843\n",
      "   1003.98635282  1007.43979093  1001.40709911  1002.6240636   1003.62269888\n",
      "   1008.41843796]\n",
      " [ 1007.43767778  1006.55560766  1005.18042169  1005.12971307\n",
      "   1005.62346619  1004.48468658  1005.2506437   1007.44010259\n",
      "   1002.50114765  1003.87657108]]\n"
     ]
    }
   ],
   "source": [
    "import numpy as np\n",
    "m = np.random.rand(10, 10) * 10 + 1000\n",
    "print(m)"
   ]
  },
  {
   "cell_type": "code",
   "execution_count": 49,
   "metadata": {},
   "outputs": [
    {
     "name": "stdout",
     "output_type": "stream",
     "text": [
      "[[ inf  inf  inf  inf  inf  inf  inf  inf  inf  inf]\n",
      " [ inf  inf  inf  inf  inf  inf  inf  inf  inf  inf]\n",
      " [ inf  inf  inf  inf  inf  inf  inf  inf  inf  inf]\n",
      " [ inf  inf  inf  inf  inf  inf  inf  inf  inf  inf]\n",
      " [ inf  inf  inf  inf  inf  inf  inf  inf  inf  inf]\n",
      " [ inf  inf  inf  inf  inf  inf  inf  inf  inf  inf]\n",
      " [ inf  inf  inf  inf  inf  inf  inf  inf  inf  inf]\n",
      " [ inf  inf  inf  inf  inf  inf  inf  inf  inf  inf]\n",
      " [ inf  inf  inf  inf  inf  inf  inf  inf  inf  inf]\n",
      " [ inf  inf  inf  inf  inf  inf  inf  inf  inf  inf]]\n"
     ]
    },
    {
     "name": "stderr",
     "output_type": "stream",
     "text": [
      "/Users/zeweichu/anaconda3/envs/py36/lib/python3.6/site-packages/ipykernel_launcher.py:1: RuntimeWarning: overflow encountered in exp\n",
      "  \"\"\"Entry point for launching an IPython kernel.\n"
     ]
    }
   ],
   "source": [
    "print(np.exp(m))"
   ]
  },
  {
   "cell_type": "code",
   "execution_count": 50,
   "metadata": {},
   "outputs": [
    {
     "name": "stdout",
     "output_type": "stream",
     "text": [
      "[ 1009.51564452  1009.49467382  1009.83673379  1009.37108919  1009.70808009\n",
      "  1006.19447414  1009.81171013  1009.42206593  1009.38249775  1007.44010259] (10,)\n"
     ]
    }
   ],
   "source": [
    "m_row_max = m.max(axis=1)\n",
    "print(m_row_max, m_row_max.shape)"
   ]
  },
  {
   "cell_type": "code",
   "execution_count": 51,
   "metadata": {},
   "outputs": [
    {
     "name": "stdout",
     "output_type": "stream",
     "text": [
      "[[ -4.76039960e-01  -9.20501175e+00  -2.81235589e+00  -4.24888680e+00\n",
      "   -6.82370916e+00   2.64855206e+00  -2.96065608e-01  -4.89558651e+00\n",
      "   -1.75414766e+00   6.87799827e-01]\n",
      " [ -5.95828958e+00  -8.25926095e+00  -1.85007797e+00   1.23584629e-01\n",
      "   -7.39599824e+00   1.42975827e+00  -2.41547808e+00  -4.56955883e+00\n",
      "   -8.85929673e-01  -3.63636923e+00]\n",
      " [  3.98655546e-02  -7.65869236e+00  -9.00905705e+00   4.65644603e-01\n",
      "   -9.24222857e+00  -3.90364492e+00  -1.78823690e+00  -7.87906367e+00\n",
      "   -6.80844914e+00  -4.17209297e+00]\n",
      " [ -5.53527194e+00  -1.23517017e+00  -9.10338654e+00  -3.18771864e+00\n",
      "   -3.79097927e+00  -2.89596633e+00  -4.40620942e-01  -8.70781425e+00\n",
      "   -2.81372310e+00  -3.14452624e+00]\n",
      " [  8.52583931e-03  -3.72860506e+00  -8.18504600e+00  -9.03027138e+00\n",
      "   -6.17358197e+00  -3.46584687e+00  -9.00903765e+00   2.86014159e-01\n",
      "   -1.41639402e+00  -6.93459900e+00]\n",
      " [ -4.02677444e+00  -7.27147398e+00  -9.06969756e+00  -4.25477693e+00\n",
      "   -3.51360594e+00  -3.44311628e-02  -8.73644528e+00  -4.26089414e+00\n",
      "   -7.99231586e+00  -4.82470861e+00]\n",
      " [ -5.42903082e+00  -5.64811557e+00  -6.18011368e+00  -8.55363284e+00\n",
      "   -3.65464253e+00  -3.33725512e-01   0.00000000e+00  -6.22500582e+00\n",
      "   -6.02225905e+00  -1.80621301e-01]\n",
      " [ -7.98882216e+00  -4.82451080e-01  -3.90584049e+00   5.09767380e-02\n",
      "   -7.80302735e+00  -4.25776143e+00  -4.54332618e+00  -4.63036366e+00\n",
      "   -5.68571783e+00   4.26529647e-02]\n",
      " [ -7.46296368e+00  -2.33189805e+00  -4.54236045e-01  -9.76160754e-01\n",
      "   -5.72172726e+00   1.24531679e+00  -8.40461102e+00  -6.79800233e+00\n",
      "   -5.75979887e+00   9.78335370e-01]\n",
      " [ -2.07796674e+00  -2.93906616e+00  -4.65631210e+00  -4.24137611e+00\n",
      "   -4.08461389e+00  -1.70978756e+00  -4.56106643e+00  -1.98196333e+00\n",
      "   -6.88135010e+00  -3.56353152e+00]]\n"
     ]
    }
   ],
   "source": [
    "m = m - m_row_max\n",
    "print(m)"
   ]
  },
  {
   "cell_type": "code",
   "execution_count": 52,
   "metadata": {},
   "outputs": [
    {
     "name": "stdout",
     "output_type": "stream",
     "text": [
      "[[  6.21238657e-01   1.00534285e-04   6.00633229e-02   1.42801218e-02\n",
      "    1.08767906e-03   1.41335593e+01   7.43738631e-01   7.47952116e-03\n",
      "    1.73054682e-01   1.98933384e+00]\n",
      " [  2.58432847e-03   2.58850223e-04   1.57224907e-01   1.13154576e+00\n",
      "    6.13703750e-04   4.17768918e+00   8.93246242e-02   1.03625303e-02\n",
      "    4.12330662e-01   2.63478335e-02]\n",
      " [  1.04067085e+00   4.71924116e-04   1.22297121e-04   1.59304074e+00\n",
      "    9.68614866e-05   2.01682655e-02   1.67254797e-01   3.78587373e-04\n",
      "    1.10440435e-03   1.54199529e-02]\n",
      " [  3.94513565e-03   2.90785275e-01   1.11288288e-04   4.12659061e-02\n",
      "    2.25734854e-02   5.52456136e-02   6.43636636e-01   1.65289140e-04\n",
      "    5.99812597e-02   4.30873321e-02]\n",
      " [  1.00856229e+00   2.40263278e-02   2.78791604e-04   1.19729997e-04\n",
      "    2.08375865e-03   3.12465324e-02   1.22299494e-04   1.33111130e+00\n",
      "    2.42587206e-01   9.73513369e-04]\n",
      " [  1.78317546e-02   6.95086697e-04   1.15101344e-04   1.41962572e-02\n",
      "    2.97893021e-02   9.66154845e-01   1.60623848e-04   1.41096808e-02\n",
      "    3.38050298e-04   8.02889305e-03]\n",
      " [  4.38734589e-03   3.52415153e-03   2.07019250e-03   1.92843258e-04\n",
      "    2.58707439e-02   7.16250357e-01   1.00000000e+00   1.97931229e-03\n",
      "    2.42418705e-03   8.34751418e-01]\n",
      " [  3.39233412e-04   6.17268561e-01   2.01240333e-02   1.05229841e+00\n",
      "    4.08496442e-04   1.41539515e-02   1.06379639e-02   9.75121230e-03\n",
      "    3.39409598e-03   1.04357567e+00]\n",
      " [  5.73952636e-04   9.71112500e-02   6.34932843e-01   3.76754780e-01\n",
      "    3.27405087e-03   3.47403515e+00   2.23832843e-04   1.11600233e-03\n",
      "    3.15174546e-03   2.66002460e+00]\n",
      " [  1.25184486e-01   5.29151200e-02   9.50143822e-03   1.43877790e-02\n",
      "    1.68296361e-02   1.80904219e-01   1.04509078e-02   1.37798427e-01\n",
      "    1.02675689e-03   2.83385696e-02]] (10, 10)\n"
     ]
    }
   ],
   "source": [
    "m_exp = np.exp(m)\n",
    "print(m_exp, m_exp.shape)"
   ]
  },
  {
   "cell_type": "code",
   "execution_count": 53,
   "metadata": {},
   "outputs": [
    {
     "name": "stdout",
     "output_type": "stream",
     "text": [
      "[[ 17.74393632]\n",
      " [  6.00828239]\n",
      " [  2.83872868]\n",
      " [  1.16079722]\n",
      " [  2.64111175]\n",
      " [  1.05141959]\n",
      " [  2.59145055]\n",
      " [  2.77195164]\n",
      " [  7.2511982 ]\n",
      " [  0.57733734]] (10, 1)\n"
     ]
    }
   ],
   "source": [
    "m_exp_row_sum = m_exp.sum(axis = 1).reshape(10,1)\n",
    "print(m_exp_row_sum, m_exp_row_sum.shape)"
   ]
  },
  {
   "cell_type": "code",
   "execution_count": 54,
   "metadata": {},
   "outputs": [
    {
     "name": "stdout",
     "output_type": "stream",
     "text": [
      "[[  3.50113214e-02   5.66583891e-06   3.38500555e-03   8.04788830e-04\n",
      "    6.12986339e-05   7.96528971e-01   4.19150868e-02   4.21525473e-04\n",
      "    9.75289126e-03   1.12113445e-01]\n",
      " [  4.30127665e-04   4.30822332e-05   2.61680288e-02   1.88330989e-01\n",
      "    1.02142960e-04   6.95321710e-01   1.48669151e-02   1.72470760e-03\n",
      "    6.86270444e-02   4.38525219e-03]\n",
      " [  3.66597505e-01   1.66244883e-04   4.30816521e-05   5.61181049e-01\n",
      "    3.41214317e-05   7.10468234e-03   5.89189092e-02   1.33365114e-04\n",
      "    3.89048928e-04   5.43199249e-03]\n",
      " [  3.39864326e-03   2.50504800e-01   9.58722898e-05   3.55496252e-02\n",
      "    1.94465364e-02   4.75928203e-02   5.54478099e-01   1.42392777e-04\n",
      "    5.16724701e-02   3.71187416e-02]\n",
      " [  3.81870357e-01   9.09705083e-03   1.05558428e-04   4.53331808e-05\n",
      "    7.88970271e-04   1.18308256e-02   4.63060656e-05   5.03996585e-01\n",
      "    9.18504134e-02   3.68599840e-04]\n",
      " [  1.69596940e-02   6.61093535e-04   1.09472322e-04   1.35019903e-02\n",
      "    2.83324585e-02   9.18905116e-01   1.52768551e-04   1.34196479e-02\n",
      "    3.21517974e-04   7.63624066e-03]\n",
      " [  1.69300776e-03   1.35991464e-03   7.98854717e-04   7.44151794e-05\n",
      "    9.98311308e-03   2.76389745e-01   3.85884268e-01   7.63785475e-04\n",
      "    9.35455647e-04   3.22117440e-01]\n",
      " [  1.22380711e-04   2.22683741e-01   7.25987895e-03   3.79623656e-01\n",
      "    1.47367810e-04   5.10613221e-03   3.83771627e-03   3.51781473e-03\n",
      "    1.22444271e-03   3.76476869e-01]\n",
      " [  7.91527993e-05   1.33924418e-02   8.75624724e-02   5.19575895e-02\n",
      "    4.51518601e-04   4.79098082e-01   3.08683940e-05   1.53905920e-04\n",
      "    4.34651676e-04   3.66839317e-01]\n",
      " [  2.16830745e-01   9.16537289e-02   1.64573423e-02   2.49209223e-02\n",
      "    2.91504375e-02   3.13342316e-01   1.81019087e-02   2.38679222e-01\n",
      "    1.77843493e-03   4.90849416e-02]]\n"
     ]
    }
   ],
   "source": [
    "m_softmax = m_exp / m_exp_row_sum\n",
    "print(m_softmax)"
   ]
  },
  {
   "cell_type": "code",
   "execution_count": 55,
   "metadata": {},
   "outputs": [
    {
     "name": "stdout",
     "output_type": "stream",
     "text": [
      "[ 1.  1.  1.  1.  1.  1.  1.  1.  1.  1.]\n"
     ]
    }
   ],
   "source": [
    "print(m_softmax.sum(axis=1))"
   ]
  },
  {
   "cell_type": "markdown",
   "metadata": {},
   "source": [
    "更多的numpy细节和用法可以查看一下官网[numpy指南](http://docs.scipy.org/doc/numpy/reference/)"
   ]
  }
 ],
 "metadata": {
  "kernelspec": {
   "display_name": "Python 3",
   "language": "python",
   "name": "python3"
  },
  "language_info": {
   "codemirror_mode": {
    "name": "ipython",
    "version": 3
   },
   "file_extension": ".py",
   "mimetype": "text/x-python",
   "name": "python",
   "nbconvert_exporter": "python",
   "pygments_lexer": "ipython3",
   "version": "3.6.1"
  }
 },
 "nbformat": 4,
 "nbformat_minor": 1
}

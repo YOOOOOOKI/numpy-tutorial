{
 "cells": [
  {
   "cell_type": "markdown",
   "metadata": {},
   "source": [
    "# numpy基础\n",
    "\n",
    "### 七月在线python数据分析集训营 julyedu.com\n",
    "\n",
    "褚则伟 zeweichu@gmail.com"
   ]
  },
  {
   "cell_type": "markdown",
   "metadata": {},
   "source": [
    "## 目录\n",
    "- 文件输入输出\n",
    "- 线性代数运算\n",
    "- 随堂小项目：用Numpy写一个Softmax"
   ]
  },
  {
   "cell_type": "markdown",
   "metadata": {},
   "source": [
    "## numpy的文件输入输出\n",
    "### 七月在线python数据分析集训营 julyedu.com"
   ]
  },
  {
   "cell_type": "markdown",
   "metadata": {},
   "source": [
    "读取csv文件作为数组"
   ]
  },
  {
   "cell_type": "code",
   "execution_count": 2,
   "metadata": {},
   "outputs": [
    {
     "name": "stdout",
     "output_type": "stream",
     "text": [
      "[[ 0.580052  0.18673   1.040717  1.134411]\n",
      " [ 0.194163 -0.636917 -0.938659  0.124094]\n",
      " [-0.12641   0.268607 -0.695724  0.047428]\n",
      " [-1.484413  0.004176 -0.744203  0.005487]\n",
      " [ 2.302869  0.200131  1.670238 -1.88109 ]\n",
      " [-0.19323   1.047233  0.482803  0.960334]]\n"
     ]
    }
   ],
   "source": [
    "import numpy as np\n",
    "arr = np.loadtxt('array_ex.txt', delimiter=',')\n",
    "print(arr)"
   ]
  },
  {
   "cell_type": "markdown",
   "metadata": {},
   "source": [
    "还有一个常用的把文本数据转换成ndarray的方法叫做genfromtxt"
   ]
  },
  {
   "cell_type": "code",
   "execution_count": 4,
   "metadata": {},
   "outputs": [
    {
     "ename": "NameError",
     "evalue": "name 'BytesIO' is not defined",
     "output_type": "error",
     "traceback": [
      "\u001b[0;31m---------------------------------------------------------------------------\u001b[0m",
      "\u001b[0;31mNameError\u001b[0m                                 Traceback (most recent call last)",
      "\u001b[0;32m<ipython-input-4-991a2b7662ee>\u001b[0m in \u001b[0;36m<module>\u001b[0;34m()\u001b[0m\n\u001b[0;32m----> 1\u001b[0;31m \u001b[0marr\u001b[0m \u001b[0;34m=\u001b[0m \u001b[0mnp\u001b[0m\u001b[0;34m.\u001b[0m\u001b[0mgenfromtxt\u001b[0m\u001b[0;34m(\u001b[0m\u001b[0mBytesIO\u001b[0m\u001b[0;34m(\u001b[0m\u001b[0mopen\u001b[0m\u001b[0;34m(\u001b[0m\u001b[0;34m'array_ex.txt'\u001b[0m\u001b[0;34m)\u001b[0m\u001b[0;34m)\u001b[0m\u001b[0;34m,\u001b[0m \u001b[0mdelimiter\u001b[0m\u001b[0;34m=\u001b[0m\u001b[0;34m\",\"\u001b[0m\u001b[0;34m)\u001b[0m\u001b[0;34m\u001b[0m\u001b[0m\n\u001b[0m\u001b[1;32m      2\u001b[0m \u001b[0mprint\u001b[0m\u001b[0;34m(\u001b[0m\u001b[0marr\u001b[0m\u001b[0;34m)\u001b[0m\u001b[0;34m\u001b[0m\u001b[0m\n",
      "\u001b[0;31mNameError\u001b[0m: name 'BytesIO' is not defined"
     ]
    }
   ],
   "source": [
    "\n",
    "arr = np.genfromtxt(BytesIO(open('array_ex.txt')), delimiter=\",\")\n",
    "print(arr)"
   ]
  },
  {
   "cell_type": "markdown",
   "metadata": {},
   "source": [
    "数组文件读写"
   ]
  },
  {
   "cell_type": "code",
   "execution_count": 14,
   "metadata": {
    "collapsed": true
   },
   "outputs": [],
   "source": [
    "arr = np.arange(10)\n",
    "np.save('some_array', arr)"
   ]
  },
  {
   "cell_type": "code",
   "execution_count": 16,
   "metadata": {},
   "outputs": [
    {
     "name": "stdout",
     "output_type": "stream",
     "text": [
      "[0 1 2 3 4 5 6 7 8 9]\n"
     ]
    }
   ],
   "source": [
    "print(np.load('some_array.npy'))"
   ]
  },
  {
   "cell_type": "markdown",
   "metadata": {},
   "source": [
    "多个数组可以一起压缩存储"
   ]
  },
  {
   "cell_type": "code",
   "execution_count": 17,
   "metadata": {
    "collapsed": true
   },
   "outputs": [],
   "source": [
    "arr2 = np.arange(15).reshape(3,5)\n",
    "np.savez('array_archive.npz', a=arr, b=arr2)"
   ]
  },
  {
   "cell_type": "code",
   "execution_count": 18,
   "metadata": {},
   "outputs": [
    {
     "name": "stdout",
     "output_type": "stream",
     "text": [
      "[0 1 2 3 4 5 6 7 8 9]\n",
      "[[ 0  1  2  3  4]\n",
      " [ 5  6  7  8  9]\n",
      " [10 11 12 13 14]]\n"
     ]
    }
   ],
   "source": [
    "arch = np.load('array_archive.npz')\n",
    "print(arch['a'])\n",
    "print(arch['b'])"
   ]
  },
  {
   "cell_type": "markdown",
   "metadata": {},
   "source": [
    "## numpy和scipy的相关数学运算\n",
    "### 七月在线python数据分析集训营 julyedu.com"
   ]
  },
  {
   "cell_type": "code",
   "execution_count": 5,
   "metadata": {
    "collapsed": true
   },
   "outputs": [],
   "source": [
    "import numpy as np"
   ]
  },
  {
   "cell_type": "markdown",
   "metadata": {},
   "source": [
    "那如果我要做矩阵的乘法运算怎么办！！！恩，别着急，照着下面写就可以了:\n",
    "\n",
    "[matrix multiplication](http://mathworld.wolfram.com/MatrixMultiplication.html)"
   ]
  },
  {
   "cell_type": "code",
   "execution_count": 15,
   "metadata": {},
   "outputs": [
    {
     "name": "stdout",
     "output_type": "stream",
     "text": [
      "[[ 1.  2.]\n",
      " [ 3.  4.]]\n",
      "[[ 5.  6.]\n",
      " [ 7.  8.]]\n"
     ]
    }
   ],
   "source": [
    "x = np.array([[1,2],[3,4]], dtype=np.float64)\n",
    "y = np.array([[5,6],[7,8]], dtype=np.float64)\n",
    "v = np.array([9,10])\n",
    "w = np.array([11, 12])\n",
    "print(x)\n",
    "print(y)"
   ]
  },
  {
   "cell_type": "markdown",
   "metadata": {},
   "source": [
    "求向量内积"
   ]
  },
  {
   "cell_type": "code",
   "execution_count": 12,
   "metadata": {},
   "outputs": [
    {
     "name": "stdout",
     "output_type": "stream",
     "text": [
      "219\n",
      "219\n"
     ]
    }
   ],
   "source": [
    "print(v.dot(w))\n",
    "print(np.dot(v, w))"
   ]
  },
  {
   "cell_type": "markdown",
   "metadata": {},
   "source": [
    "矩阵的乘法"
   ]
  },
  {
   "cell_type": "code",
   "execution_count": 13,
   "metadata": {},
   "outputs": [
    {
     "name": "stdout",
     "output_type": "stream",
     "text": [
      "[ 29.  67.]\n",
      "[ 29.  67.]\n"
     ]
    }
   ],
   "source": [
    "print(x.dot(v))\n",
    "print(np.dot(x, v))"
   ]
  },
  {
   "cell_type": "code",
   "execution_count": 14,
   "metadata": {
    "scrolled": true
   },
   "outputs": [
    {
     "name": "stdout",
     "output_type": "stream",
     "text": [
      "[[ 19.  22.]\n",
      " [ 43.  50.]]\n",
      "[[ 19.  22.]\n",
      " [ 43.  50.]]\n"
     ]
    }
   ],
   "source": [
    "print(x.dot(y))\n",
    "print(np.dot(x, y))"
   ]
  },
  {
   "cell_type": "markdown",
   "metadata": {},
   "source": [
    "向量的内积[inner](https://docs.scipy.org/doc/numpy-1.13.0/reference/generated/numpy.inner.html#numpy.inner)"
   ]
  },
  {
   "cell_type": "code",
   "execution_count": 16,
   "metadata": {},
   "outputs": [
    {
     "data": {
      "text/plain": [
       "array([[ 17.,  23.],\n",
       "       [ 39.,  53.]])"
      ]
     },
     "execution_count": 16,
     "metadata": {},
     "output_type": "execute_result"
    }
   ],
   "source": [
    "np.inner(x, y)"
   ]
  },
  {
   "cell_type": "code",
   "execution_count": 22,
   "metadata": {},
   "outputs": [
    {
     "data": {
      "text/plain": [
       "array([[[ 14,  38,  62],\n",
       "        [ 38, 126, 214],\n",
       "        [ 62, 214, 366]],\n",
       "\n",
       "       [[ 86, 302, 518],\n",
       "        [110, 390, 670],\n",
       "        [134, 478, 822]]])"
      ]
     },
     "execution_count": 22,
     "metadata": {},
     "output_type": "execute_result"
    }
   ],
   "source": [
    "X = np.arange(24).reshape(2,3,4)\n",
    "Y = np.arange(12).reshape(3,4)\n",
    "np.inner(X, Y)"
   ]
  },
  {
   "cell_type": "code",
   "execution_count": 35,
   "metadata": {},
   "outputs": [
    {
     "data": {
      "text/plain": [
       "(2, 3, 4)"
      ]
     },
     "execution_count": 35,
     "metadata": {},
     "output_type": "execute_result"
    }
   ],
   "source": [
    "X = np.arange(24).reshape(2,3,4)\n",
    "Y = np.arange(16).reshape(4,4)\n",
    "np.inner(X, Y).shape"
   ]
  },
  {
   "cell_type": "markdown",
   "metadata": {
    "collapsed": true
   },
   "source": [
    "转置和数学公式一样，简单粗暴"
   ]
  },
  {
   "cell_type": "code",
   "execution_count": 24,
   "metadata": {},
   "outputs": [
    {
     "name": "stdout",
     "output_type": "stream",
     "text": [
      "[[ 1.  2.]\n",
      " [ 3.  4.]]\n",
      "[[ 1.  3.]\n",
      " [ 2.  4.]]\n"
     ]
    }
   ],
   "source": [
    "print(x)\n",
    "print(x.T)"
   ]
  },
  {
   "cell_type": "code",
   "execution_count": null,
   "metadata": {
    "collapsed": true
   },
   "outputs": [],
   "source": [
    "需要说明一下，1维的vector转置还是自己"
   ]
  },
  {
   "cell_type": "code",
   "execution_count": 25,
   "metadata": {},
   "outputs": [
    {
     "name": "stdout",
     "output_type": "stream",
     "text": [
      "[1 2 3]\n",
      "[1 2 3]\n"
     ]
    }
   ],
   "source": [
    "v = np.array([1,2,3])\n",
    "print(v)\n",
    "print(v.T)"
   ]
  },
  {
   "cell_type": "markdown",
   "metadata": {},
   "source": [
    "2维的就不一样了"
   ]
  },
  {
   "cell_type": "code",
   "execution_count": 26,
   "metadata": {},
   "outputs": [
    {
     "name": "stdout",
     "output_type": "stream",
     "text": [
      "[[1 2 3]]\n",
      "[[1]\n",
      " [2]\n",
      " [3]]\n"
     ]
    }
   ],
   "source": [
    "w = np.array([[1,2,3]])\n",
    "print(w)\n",
    "print(w.T)"
   ]
  },
  {
   "cell_type": "markdown",
   "metadata": {},
   "source": [
    "利用转置矩阵做dot product"
   ]
  },
  {
   "cell_type": "code",
   "execution_count": 27,
   "metadata": {},
   "outputs": [
    {
     "name": "stdout",
     "output_type": "stream",
     "text": [
      "[[ 1.52312209 -1.04334087  1.12345523]\n",
      " [-1.04334087  9.52204152  0.05061461]\n",
      " [ 1.12345523  0.05061461  4.80288518]]\n"
     ]
    }
   ],
   "source": [
    "arr = np.random.randn(6,3)\n",
    "print(np.dot(arr.T, arr))"
   ]
  },
  {
   "cell_type": "code",
   "execution_count": 28,
   "metadata": {},
   "outputs": [
    {
     "ename": "ValueError",
     "evalue": "shapes (6,3) and (6,3) not aligned: 3 (dim 1) != 6 (dim 0)",
     "output_type": "error",
     "traceback": [
      "\u001b[0;31m---------------------------------------------------------------------------\u001b[0m",
      "\u001b[0;31mValueError\u001b[0m                                Traceback (most recent call last)",
      "\u001b[0;32m<ipython-input-28-6fc928e50bb5>\u001b[0m in \u001b[0;36m<module>\u001b[0;34m()\u001b[0m\n\u001b[0;32m----> 1\u001b[0;31m \u001b[0mprint\u001b[0m\u001b[0;34m(\u001b[0m\u001b[0mnp\u001b[0m\u001b[0;34m.\u001b[0m\u001b[0mdot\u001b[0m\u001b[0;34m(\u001b[0m\u001b[0marr\u001b[0m\u001b[0;34m,\u001b[0m \u001b[0marr\u001b[0m\u001b[0;34m)\u001b[0m\u001b[0;34m)\u001b[0m\u001b[0;34m\u001b[0m\u001b[0m\n\u001b[0m",
      "\u001b[0;31mValueError\u001b[0m: shapes (6,3) and (6,3) not aligned: 3 (dim 1) != 6 (dim 0)"
     ]
    }
   ],
   "source": [
    "print(np.dot(arr, arr))"
   ]
  },
  {
   "cell_type": "markdown",
   "metadata": {},
   "source": [
    "高维的tensor也可以做转置"
   ]
  },
  {
   "cell_type": "code",
   "execution_count": 19,
   "metadata": {},
   "outputs": [
    {
     "name": "stdout",
     "output_type": "stream",
     "text": [
      "[[[ 0  1  2  3]\n",
      "  [ 4  5  6  7]]\n",
      "\n",
      " [[ 8  9 10 11]\n",
      "  [12 13 14 15]]]\n"
     ]
    }
   ],
   "source": [
    "arr = np.arange(16).reshape((2, 2, 4))\n",
    "print(arr)"
   ]
  },
  {
   "cell_type": "code",
   "execution_count": 20,
   "metadata": {},
   "outputs": [
    {
     "name": "stdout",
     "output_type": "stream",
     "text": [
      "[[[ 0  1  2  3]\n",
      "  [ 8  9 10 11]]\n",
      "\n",
      " [[ 4  5  6  7]\n",
      "  [12 13 14 15]]]\n"
     ]
    }
   ],
   "source": [
    "print(arr.transpose((1,0,2)))"
   ]
  },
  {
   "cell_type": "code",
   "execution_count": 22,
   "metadata": {},
   "outputs": [
    {
     "name": "stdout",
     "output_type": "stream",
     "text": [
      "[[[ 0  4]\n",
      "  [ 1  5]\n",
      "  [ 2  6]\n",
      "  [ 3  7]]\n",
      "\n",
      " [[ 8 12]\n",
      "  [ 9 13]\n",
      "  [10 14]\n",
      "  [11 15]]]\n"
     ]
    }
   ],
   "source": [
    "print(arr.swapaxes(1,2))"
   ]
  },
  {
   "cell_type": "markdown",
   "metadata": {},
   "source": [
    "### [matmul](https://docs.scipy.org/doc/numpy-1.13.0/reference/generated/numpy.matmul.html#numpy.matmul)\n",
    "\n",
    "非常常用，用于计算矩阵乘法"
   ]
  },
  {
   "cell_type": "code",
   "execution_count": 2,
   "metadata": {
    "collapsed": true
   },
   "outputs": [],
   "source": [
    "import numpy as np"
   ]
  },
  {
   "cell_type": "code",
   "execution_count": 35,
   "metadata": {},
   "outputs": [
    {
     "name": "stdout",
     "output_type": "stream",
     "text": [
      "[[[ 28  34]\n",
      "  [ 76  98]\n",
      "  [124 162]]\n",
      "\n",
      " [[172 226]\n",
      "  [220 290]\n",
      "  [268 354]]]\n"
     ]
    }
   ],
   "source": [
    "x = np.arange(24).reshape(2,3,4)\n",
    "y = np.arange(8).reshape(4,2)\n",
    "print(np.matmul(x,y))"
   ]
  },
  {
   "cell_type": "code",
   "execution_count": 36,
   "metadata": {},
   "outputs": [
    {
     "name": "stdout",
     "output_type": "stream",
     "text": [
      "[[[ 28  34]\n",
      "  [ 76  98]\n",
      "  [124 162]]\n",
      "\n",
      " [[172 226]\n",
      "  [220 290]\n",
      "  [268 354]]]\n"
     ]
    }
   ],
   "source": [
    "print(np.dot(x, y))"
   ]
  },
  {
   "cell_type": "code",
   "execution_count": 34,
   "metadata": {},
   "outputs": [
    {
     "name": "stdout",
     "output_type": "stream",
     "text": [
      "[[ 28  34]\n",
      " [ 76  98]\n",
      " [124 162]]\n",
      "[[172 226]\n",
      " [220 290]\n",
      " [268 354]]\n"
     ]
    }
   ],
   "source": [
    "x1 = np.arange(12).reshape(3,4)\n",
    "print(np.matmul(x1, y))\n",
    "x2 = np.arange(12,24).reshape(3,4)\n",
    "print(np.matmul(x2, y))"
   ]
  },
  {
   "cell_type": "code",
   "execution_count": 25,
   "metadata": {},
   "outputs": [
    {
     "name": "stdout",
     "output_type": "stream",
     "text": [
      "(2, 3, 2, 2)\n"
     ]
    }
   ],
   "source": [
    "y = np.arange(16).reshape(2,4,2)\n",
    "print(x.dot(y).shape)"
   ]
  },
  {
   "cell_type": "code",
   "execution_count": 26,
   "metadata": {},
   "outputs": [
    {
     "name": "stdout",
     "output_type": "stream",
     "text": [
      "(2, 3, 2)\n"
     ]
    }
   ],
   "source": [
    "print(np.matmul(x,y).shape)"
   ]
  },
  {
   "cell_type": "code",
   "execution_count": 40,
   "metadata": {},
   "outputs": [
    {
     "name": "stdout",
     "output_type": "stream",
     "text": [
      "[[[  28   34]\n",
      "  [  76   98]\n",
      "  [ 124  162]]\n",
      "\n",
      " [[ 604  658]\n",
      "  [ 780  850]\n",
      "  [ 956 1042]]]\n"
     ]
    }
   ],
   "source": [
    "x = np.arange(24).reshape(2,3,4)\n",
    "y = np.arange(16).reshape(2,4,2)\n",
    "print(np.matmul(x,y))"
   ]
  },
  {
   "cell_type": "code",
   "execution_count": 41,
   "metadata": {},
   "outputs": [
    {
     "name": "stdout",
     "output_type": "stream",
     "text": [
      "[[[ 28  34]\n",
      "  [ 76  98]\n",
      "  [124 162]]\n",
      "\n",
      " [[172 226]\n",
      "  [220 290]\n",
      "  [268 354]]]\n"
     ]
    }
   ],
   "source": [
    "x = np.arange(24).reshape(2,3,4) \n",
    "y = np.arange(8).reshape(1,4,2)\n",
    "print(np.matmul(x,y))"
   ]
  },
  {
   "cell_type": "code",
   "execution_count": 42,
   "metadata": {},
   "outputs": [
    {
     "name": "stdout",
     "output_type": "stream",
     "text": [
      "x [[ 0  1  2  3]\n",
      " [ 4  5  6  7]\n",
      " [ 8  9 10 11]] [[12 13 14 15]\n",
      " [16 17 18 19]\n",
      " [20 21 22 23]]\n",
      "[[[0 1]\n",
      "  [2 3]\n",
      "  [4 5]\n",
      "  [6 7]]]\n"
     ]
    }
   ],
   "source": [
    "print(\"x\", x[0], x[1])\n",
    "print(y)"
   ]
  },
  {
   "cell_type": "markdown",
   "metadata": {},
   "source": [
    "### [outer product](https://docs.scipy.org/doc/numpy-1.13.0/reference/generated/numpy.outer.html)\n",
    "\n",
    "与数学中的定义一样，outer product就是两个向量酸外积，变成了一个矩阵"
   ]
  },
  {
   "cell_type": "code",
   "execution_count": 31,
   "metadata": {},
   "outputs": [
    {
     "data": {
      "text/plain": [
       "array([[-10., -15., -20.],\n",
       "       [  0.,   0.,   0.],\n",
       "       [ 10.,  15.,  20.]])"
      ]
     },
     "execution_count": 31,
     "metadata": {},
     "output_type": "execute_result"
    }
   ],
   "source": [
    "a = np.linspace(-5,5,3)\n",
    "b = np.arange(2,5)\n",
    "np.outer(a, b)"
   ]
  },
  {
   "cell_type": "code",
   "execution_count": null,
   "metadata": {
    "collapsed": true
   },
   "outputs": [],
   "source": []
  },
  {
   "cell_type": "markdown",
   "metadata": {},
   "source": [
    "### 一些更高级的线性代数操作"
   ]
  },
  {
   "cell_type": "markdown",
   "metadata": {},
   "source": [
    "计算determinant"
   ]
  },
  {
   "cell_type": "code",
   "execution_count": 44,
   "metadata": {},
   "outputs": [
    {
     "data": {
      "text/plain": [
       "-9.0000000000000018"
      ]
     },
     "execution_count": 44,
     "metadata": {},
     "output_type": "execute_result"
    }
   ],
   "source": [
    "x = np.array([[1, 5], [2, 1]])\n",
    "np.linalg.det(x)"
   ]
  },
  {
   "cell_type": "markdown",
   "metadata": {},
   "source": [
    "计算inverse"
   ]
  },
  {
   "cell_type": "code",
   "execution_count": 47,
   "metadata": {},
   "outputs": [
    {
     "name": "stdout",
     "output_type": "stream",
     "text": [
      "x_inv [[-0.11111111  0.55555556]\n",
      " [ 0.22222222 -0.11111111]]\n"
     ]
    },
    {
     "data": {
      "text/plain": [
       "array([[  1.00000000e+00,   5.55111512e-17],\n",
       "       [  0.00000000e+00,   1.00000000e+00]])"
      ]
     },
     "execution_count": 47,
     "metadata": {},
     "output_type": "execute_result"
    }
   ],
   "source": [
    "x_inv = np.linalg.inv(x)\n",
    "print(\"x_inv\", x_inv)\n",
    "np.dot(x, x_inv)"
   ]
  },
  {
   "cell_type": "markdown",
   "metadata": {},
   "source": [
    "计算pseudo-inverse"
   ]
  },
  {
   "cell_type": "code",
   "execution_count": 50,
   "metadata": {},
   "outputs": [
    {
     "data": {
      "text/plain": [
       "0.0"
      ]
     },
     "execution_count": 50,
     "metadata": {},
     "output_type": "execute_result"
    }
   ],
   "source": [
    "x = np.array([[1,2,3], [2,4,6], [1,3,5]])\n",
    "np.linalg.det(x)"
   ]
  },
  {
   "cell_type": "code",
   "execution_count": 52,
   "metadata": {},
   "outputs": [
    {
     "ename": "LinAlgError",
     "evalue": "Singular matrix",
     "output_type": "error",
     "traceback": [
      "\u001b[0;31m---------------------------------------------------------------------------\u001b[0m",
      "\u001b[0;31mLinAlgError\u001b[0m                               Traceback (most recent call last)",
      "\u001b[0;32m<ipython-input-52-14ddc37920d7>\u001b[0m in \u001b[0;36m<module>\u001b[0;34m()\u001b[0m\n\u001b[0;32m----> 1\u001b[0;31m \u001b[0mx_inv\u001b[0m \u001b[0;34m=\u001b[0m \u001b[0mnp\u001b[0m\u001b[0;34m.\u001b[0m\u001b[0mlinalg\u001b[0m\u001b[0;34m.\u001b[0m\u001b[0minv\u001b[0m\u001b[0;34m(\u001b[0m\u001b[0mx\u001b[0m\u001b[0;34m)\u001b[0m\u001b[0;34m\u001b[0m\u001b[0m\n\u001b[0m",
      "\u001b[0;32m~/anaconda3/envs/py36/lib/python3.6/site-packages/numpy/linalg/linalg.py\u001b[0m in \u001b[0;36minv\u001b[0;34m(a)\u001b[0m\n\u001b[1;32m    511\u001b[0m     \u001b[0msignature\u001b[0m \u001b[0;34m=\u001b[0m \u001b[0;34m'D->D'\u001b[0m \u001b[0;32mif\u001b[0m \u001b[0misComplexType\u001b[0m\u001b[0;34m(\u001b[0m\u001b[0mt\u001b[0m\u001b[0;34m)\u001b[0m \u001b[0;32melse\u001b[0m \u001b[0;34m'd->d'\u001b[0m\u001b[0;34m\u001b[0m\u001b[0m\n\u001b[1;32m    512\u001b[0m     \u001b[0mextobj\u001b[0m \u001b[0;34m=\u001b[0m \u001b[0mget_linalg_error_extobj\u001b[0m\u001b[0;34m(\u001b[0m\u001b[0m_raise_linalgerror_singular\u001b[0m\u001b[0;34m)\u001b[0m\u001b[0;34m\u001b[0m\u001b[0m\n\u001b[0;32m--> 513\u001b[0;31m     \u001b[0mainv\u001b[0m \u001b[0;34m=\u001b[0m \u001b[0m_umath_linalg\u001b[0m\u001b[0;34m.\u001b[0m\u001b[0minv\u001b[0m\u001b[0;34m(\u001b[0m\u001b[0ma\u001b[0m\u001b[0;34m,\u001b[0m \u001b[0msignature\u001b[0m\u001b[0;34m=\u001b[0m\u001b[0msignature\u001b[0m\u001b[0;34m,\u001b[0m \u001b[0mextobj\u001b[0m\u001b[0;34m=\u001b[0m\u001b[0mextobj\u001b[0m\u001b[0;34m)\u001b[0m\u001b[0;34m\u001b[0m\u001b[0m\n\u001b[0m\u001b[1;32m    514\u001b[0m     \u001b[0;32mreturn\u001b[0m \u001b[0mwrap\u001b[0m\u001b[0;34m(\u001b[0m\u001b[0mainv\u001b[0m\u001b[0;34m.\u001b[0m\u001b[0mastype\u001b[0m\u001b[0;34m(\u001b[0m\u001b[0mresult_t\u001b[0m\u001b[0;34m,\u001b[0m \u001b[0mcopy\u001b[0m\u001b[0;34m=\u001b[0m\u001b[0;32mFalse\u001b[0m\u001b[0;34m)\u001b[0m\u001b[0;34m)\u001b[0m\u001b[0;34m\u001b[0m\u001b[0m\n\u001b[1;32m    515\u001b[0m \u001b[0;34m\u001b[0m\u001b[0m\n",
      "\u001b[0;32m~/anaconda3/envs/py36/lib/python3.6/site-packages/numpy/linalg/linalg.py\u001b[0m in \u001b[0;36m_raise_linalgerror_singular\u001b[0;34m(err, flag)\u001b[0m\n\u001b[1;32m     88\u001b[0m \u001b[0;34m\u001b[0m\u001b[0m\n\u001b[1;32m     89\u001b[0m \u001b[0;32mdef\u001b[0m \u001b[0m_raise_linalgerror_singular\u001b[0m\u001b[0;34m(\u001b[0m\u001b[0merr\u001b[0m\u001b[0;34m,\u001b[0m \u001b[0mflag\u001b[0m\u001b[0;34m)\u001b[0m\u001b[0;34m:\u001b[0m\u001b[0;34m\u001b[0m\u001b[0m\n\u001b[0;32m---> 90\u001b[0;31m     \u001b[0;32mraise\u001b[0m \u001b[0mLinAlgError\u001b[0m\u001b[0;34m(\u001b[0m\u001b[0;34m\"Singular matrix\"\u001b[0m\u001b[0;34m)\u001b[0m\u001b[0;34m\u001b[0m\u001b[0m\n\u001b[0m\u001b[1;32m     91\u001b[0m \u001b[0;34m\u001b[0m\u001b[0m\n\u001b[1;32m     92\u001b[0m \u001b[0;32mdef\u001b[0m \u001b[0m_raise_linalgerror_nonposdef\u001b[0m\u001b[0;34m(\u001b[0m\u001b[0merr\u001b[0m\u001b[0;34m,\u001b[0m \u001b[0mflag\u001b[0m\u001b[0;34m)\u001b[0m\u001b[0;34m:\u001b[0m\u001b[0;34m\u001b[0m\u001b[0m\n",
      "\u001b[0;31mLinAlgError\u001b[0m: Singular matrix"
     ]
    }
   ],
   "source": [
    "x_inv = np.linalg.inv(x)"
   ]
  },
  {
   "cell_type": "code",
   "execution_count": 54,
   "metadata": {
    "scrolled": true
   },
   "outputs": [
    {
     "name": "stdout",
     "output_type": "stream",
     "text": [
      "x_pinv [[ 0.43333333  0.86666667 -1.33333333]\n",
      " [ 0.13333333  0.26666667 -0.33333333]\n",
      " [-0.16666667 -0.33333333  0.66666667]]\n"
     ]
    }
   ],
   "source": [
    "x_pinv = np.linalg.pinv(x)\n",
    "print(\"x_pinv\", x_pinv)"
   ]
  },
  {
   "cell_type": "code",
   "execution_count": 57,
   "metadata": {},
   "outputs": [
    {
     "data": {
      "text/plain": [
       "array([[  2.00000000e-01,   4.00000000e-01,   0.00000000e+00],\n",
       "       [  4.00000000e-01,   8.00000000e-01,   0.00000000e+00],\n",
       "       [  1.11022302e-16,   0.00000000e+00,   1.00000000e+00]])"
      ]
     },
     "execution_count": 57,
     "metadata": {},
     "output_type": "execute_result"
    }
   ],
   "source": [
    "np.dot(x, x_pinv)"
   ]
  },
  {
   "cell_type": "markdown",
   "metadata": {},
   "source": [
    "计算Matrix的[norm](https://docs.scipy.org/doc/numpy-1.13.0/reference/generated/numpy.linalg.norm.html#numpy.linalg.norm)"
   ]
  },
  {
   "cell_type": "code",
   "execution_count": 58,
   "metadata": {},
   "outputs": [
    {
     "data": {
      "text/plain": [
       "31.859064644147981"
      ]
     },
     "execution_count": 58,
     "metadata": {},
     "output_type": "execute_result"
    }
   ],
   "source": [
    "x = np.arange(15).reshape(3,5)\n",
    "np.linalg.norm(x, \"fro\")"
   ]
  },
  {
   "cell_type": "code",
   "execution_count": 59,
   "metadata": {},
   "outputs": [
    {
     "data": {
      "text/plain": [
       "31.859064644147981"
      ]
     },
     "execution_count": 59,
     "metadata": {},
     "output_type": "execute_result"
    }
   ],
   "source": [
    "np.sqrt(np.sum(x**2))"
   ]
  },
  {
   "cell_type": "code",
   "execution_count": 65,
   "metadata": {},
   "outputs": [
    {
     "data": {
      "text/plain": [
       "60.0"
      ]
     },
     "execution_count": 65,
     "metadata": {},
     "output_type": "execute_result"
    }
   ],
   "source": [
    "np.linalg.norm(x, np.inf)"
   ]
  },
  {
   "cell_type": "markdown",
   "metadata": {},
   "source": [
    "计算singular value decomposition (SVD)"
   ]
  },
  {
   "cell_type": "code",
   "execution_count": 67,
   "metadata": {},
   "outputs": [],
   "source": [
    "U, s, V = np.linalg.svd(x)"
   ]
  },
  {
   "cell_type": "code",
   "execution_count": 69,
   "metadata": {},
   "outputs": [
    {
     "data": {
      "text/plain": [
       "array([[  1.00000000e+00,   0.00000000e+00,  -2.77555756e-17],\n",
       "       [  0.00000000e+00,   1.00000000e+00,  -5.55111512e-17],\n",
       "       [ -2.77555756e-17,  -5.55111512e-17,   1.00000000e+00]])"
      ]
     },
     "execution_count": 69,
     "metadata": {},
     "output_type": "execute_result"
    }
   ],
   "source": [
    "np.dot(U, U.T)"
   ]
  },
  {
   "cell_type": "code",
   "execution_count": 70,
   "metadata": {},
   "outputs": [
    {
     "data": {
      "text/plain": [
       "array([[  1.00000000e+00,  -1.07948583e-16,   5.91865369e-17,\n",
       "         -4.17545215e-17,  -4.14054997e-17],\n",
       "       [ -1.07948583e-16,   1.00000000e+00,  -1.25162789e-16,\n",
       "         -1.68536677e-17,   5.08778614e-18],\n",
       "       [  5.91865369e-17,  -1.25162789e-16,   1.00000000e+00,\n",
       "          4.99764062e-17,  -8.35727138e-17],\n",
       "       [ -4.17545215e-17,  -1.68536677e-17,   4.99764062e-17,\n",
       "          1.00000000e+00,  -8.67263621e-17],\n",
       "       [ -4.14054997e-17,   5.08778614e-18,  -8.35727138e-17,\n",
       "         -8.67263621e-17,   1.00000000e+00]])"
      ]
     },
     "execution_count": 70,
     "metadata": {},
     "output_type": "execute_result"
    }
   ],
   "source": [
    "np.dot(V, V.T)"
   ]
  },
  {
   "cell_type": "code",
   "execution_count": 71,
   "metadata": {},
   "outputs": [
    {
     "data": {
      "text/plain": [
       "array([  3.17420265e+01,   2.72832424e+00,   8.33338143e-16])"
      ]
     },
     "execution_count": 71,
     "metadata": {},
     "output_type": "execute_result"
    }
   ],
   "source": [
    "s"
   ]
  },
  {
   "cell_type": "markdown",
   "metadata": {},
   "source": [
    "## numpy简单的作图\n",
    "### 七月在线python数据分析集训营 julyedu.com"
   ]
  },
  {
   "cell_type": "code",
   "execution_count": 74,
   "metadata": {},
   "outputs": [
    {
     "data": {
      "image/png": "[encoded data removed]",
      "text/plain": [
       "<matplotlib.figure.Figure at 0x10c403cc0>"
      ]
     },
     "metadata": {},
     "output_type": "display_data"
    }
   ],
   "source": [
    "import matplotlib.pyplot as plt\n",
    "mu = 10\n",
    "sigma = 0.5 \n",
    "v = np.random.normal(mu, sigma, 10000)\n",
    "n, bins = np.histogram(v, bins=50, normed=True)\n",
    "plt.plot(.5*(bins[1:]+bins[:-1]), n)\n",
    "plt.show()"
   ]
  },
  {
   "cell_type": "markdown",
   "metadata": {},
   "source": [
    "\n",
    "## 随堂小项目\n",
    "\n",
    "### 七月在线python数据分析集训营 julyedu.com\n",
    "\n",
    "用numpy写一个softmax\n",
    "\n",
    "[什么是softmax?](http://cs231n.github.io/linear-classify/#softmax)"
   ]
  },
  {
   "cell_type": "code",
   "execution_count": 21,
   "metadata": {},
   "outputs": [
    {
     "name": "stdout",
     "output_type": "stream",
     "text": [
      "[[ 1005.6268522   1006.37640425  1009.16607654  1006.60560186\n",
      "   1004.10292284  1005.5612714   1009.10305278  1000.07293013  1007.4625404\n",
      "   1000.44251085]\n",
      " [ 1006.85008953  1005.50904204  1002.31367115  1005.7564141   1000.25971641\n",
      "   1006.00979083  1007.12821065  1007.23651786  1002.37159662\n",
      "   1005.04012624]\n",
      " [ 1002.63382438  1004.40074103  1002.75870734  1000.20725862\n",
      "   1003.31057929  1005.30945933  1004.85378369  1006.1602791   1007.31576326\n",
      "   1000.38095496]\n",
      " [ 1009.3515505   1000.79475559  1000.83100563  1002.2717183   1009.43042959\n",
      "   1001.8705134   1002.93765709  1001.44900852  1007.20534627  1001.5160502 ]\n",
      " [ 1007.56624747  1001.91174089  1007.52248698  1003.55344569\n",
      "   1002.82665149  1001.9406309   1008.47098145  1005.35970666\n",
      "   1006.55433931  1005.82345413]\n",
      " [ 1003.47411311  1004.46967672  1002.0741481   1001.69349575\n",
      "   1007.57488751  1005.97223924  1002.10361482  1005.4440204   1007.1158348\n",
      "   1006.01226291]\n",
      " [ 1008.23895842  1005.47496358  1001.13920659  1008.34770996\n",
      "   1006.99761462  1002.2593528   1006.13809307  1006.06388217\n",
      "   1009.55611818  1005.43520641]\n",
      " [ 1004.75570801  1005.0957932   1009.5571187   1007.50346236\n",
      "   1005.41450218  1005.87092221  1002.66678405  1008.45754553\n",
      "   1004.21802027  1008.68810935]\n",
      " [ 1003.77936053  1001.64064874  1004.427875    1002.83173202\n",
      "   1004.83871564  1007.1978229   1009.12880593  1003.06085453\n",
      "   1002.67907189  1007.10052005]\n",
      " [ 1003.00418778  1006.56648482  1009.84092066  1009.17472788  1006.8900496\n",
      "   1008.78848124  1006.54494156  1004.90271471  1005.80813443  1001.9352677 ]]\n"
     ]
    }
   ],
   "source": [
    "import numpy as np\n",
    "m = np.random.rand(10, 10) * 10 + 1000\n",
    "print(m)"
   ]
  },
  {
   "cell_type": "code",
   "execution_count": 22,
   "metadata": {},
   "outputs": [
    {
     "name": "stdout",
     "output_type": "stream",
     "text": [
      "[[ inf  inf  inf  inf  inf  inf  inf  inf  inf  inf]\n",
      " [ inf  inf  inf  inf  inf  inf  inf  inf  inf  inf]\n",
      " [ inf  inf  inf  inf  inf  inf  inf  inf  inf  inf]\n",
      " [ inf  inf  inf  inf  inf  inf  inf  inf  inf  inf]\n",
      " [ inf  inf  inf  inf  inf  inf  inf  inf  inf  inf]\n",
      " [ inf  inf  inf  inf  inf  inf  inf  inf  inf  inf]\n",
      " [ inf  inf  inf  inf  inf  inf  inf  inf  inf  inf]\n",
      " [ inf  inf  inf  inf  inf  inf  inf  inf  inf  inf]\n",
      " [ inf  inf  inf  inf  inf  inf  inf  inf  inf  inf]\n",
      " [ inf  inf  inf  inf  inf  inf  inf  inf  inf  inf]]\n"
     ]
    },
    {
     "name": "stderr",
     "output_type": "stream",
     "text": [
      "c:\\users\\jasonchuzewei\\anaconda3\\envs\\julyedu\\lib\\site-packages\\ipykernel_launcher.py:1: RuntimeWarning: overflow encountered in exp\n",
      "  \"\"\"Entry point for launching an IPython kernel.\n"
     ]
    }
   ],
   "source": [
    "print(np.exp(m))"
   ]
  },
  {
   "cell_type": "code",
   "execution_count": 23,
   "metadata": {},
   "outputs": [
    {
     "name": "stdout",
     "output_type": "stream",
     "text": [
      "[ 1009.16607654  1007.23651786  1007.31576326  1009.43042959  1008.47098145\n",
      "  1007.57488751  1009.55611818  1009.5571187   1009.12880593  1009.84092066] (10,)\n"
     ]
    }
   ],
   "source": [
    "m_row_max = m.max(axis=1)\n",
    "print(m_row_max, m_row_max.shape)"
   ]
  },
  {
   "cell_type": "code",
   "execution_count": 24,
   "metadata": {},
   "outputs": [
    {
     "name": "stdout",
     "output_type": "stream",
     "text": [
      "[[-3.53922434 -0.8601136   1.85031327 -2.82482773 -4.36805861 -2.01361612\n",
      "  -0.4530654  -9.48418857 -1.66626552 -9.39840982]\n",
      " [-2.31598701 -1.72747581 -5.00209211 -3.67401548 -8.21126504 -1.56509668\n",
      "  -2.42790753 -2.32060085 -6.7572093  -4.80079442]\n",
      " [-6.53225216 -2.83577683 -4.55705593 -9.22317097 -5.16040216 -2.26542819\n",
      "  -4.70233449 -3.39683961 -1.81304266 -9.4599657 ]\n",
      " [ 0.18547396 -6.44176227 -6.48475764 -7.15871129  0.95944814 -5.70437412\n",
      "  -6.6184611  -8.10811019 -1.92345965 -8.32487046]\n",
      " [-1.59982907 -5.32477697  0.20672372 -5.8769839  -5.64432996 -5.63425661\n",
      "  -1.08513673 -4.19741205 -2.57446661 -4.01746653]\n",
      " [-5.69196343 -2.76684114 -5.24161517 -7.73693384 -0.89609394 -1.60264828\n",
      "  -7.45250336 -4.1130983  -2.01297113 -3.82865775]\n",
      " [-0.92711812 -1.76155428 -6.17655667 -1.08271963 -1.47336683 -5.31553471\n",
      "  -3.41802511 -3.49323654  0.42731225 -4.40571425]\n",
      " [-4.41036853 -2.14072466  2.24135544 -1.92696723 -3.05647927 -1.70396531\n",
      "  -6.88933413 -1.09957318 -4.91078566 -1.15281131]\n",
      " [-5.38671601 -5.59586912 -2.88788826 -6.59869757 -3.63226581 -0.37706461\n",
      "  -0.42731225 -6.49626417 -6.44973404 -2.74040061]\n",
      " [-6.16188876 -0.67003304  2.5251574  -0.25570171 -1.58093185  1.21359372\n",
      "  -3.01117662 -4.654404   -3.3206715  -7.90565296]]\n"
     ]
    }
   ],
   "source": [
    "m = m - m_row_max\n",
    "print(m)"
   ]
  },
  {
   "cell_type": "code",
   "execution_count": 32,
   "metadata": {},
   "outputs": [
    {
     "name": "stdout",
     "output_type": "stream",
     "text": [
      "[[  2.90358404e-02   4.23114012e-01   6.36181220e+00   5.93188748e-02\n",
      "    1.26758254e-02   1.33505031e-01   6.35676559e-01   7.60447503e-05\n",
      "    1.88951384e-01   8.28557167e-05]\n",
      " [  9.86687488e-02   1.77732474e-01   6.72386521e-03   2.53743747e-02\n",
      "    2.71576947e-04   2.09067799e-01   8.82212396e-02   9.82145559e-02\n",
      "    1.16246875e-03   8.22321179e-03]\n",
      " [  1.45572363e-03   5.86729295e-02   1.04929054e-02   9.87251366e-05\n",
      "    5.73939107e-03   1.03785585e-01   9.07406902e-03   3.34789094e-02\n",
      "    1.63156949e-01   7.79092635e-05]\n",
      " [  1.20378885e+00   1.59359586e-03   1.52653070e-03   7.78056598e-04\n",
      "    2.61025557e+00   3.33136178e-03   1.33548455e-03   3.01087335e-04\n",
      "    1.46100629e-01   2.42412325e-04]\n",
      " [  2.01931032e-01   4.86943692e-03   1.22964279e+00   2.80322736e-03\n",
      "    3.53751789e-03   3.57333261e-03   3.37855588e-01   1.50344350e-02\n",
      "    7.61944530e-02   1.79985059e-02]\n",
      " [  3.37296389e-03   6.28602585e-02   5.29170295e-03   4.36407622e-04\n",
      "    4.08160852e-01   2.01362548e-01   5.79987874e-04   1.63570170e-02\n",
      "    1.33591168e-01   2.17387750e-02]\n",
      " [  3.95692408e-01   1.71777666e-01   2.07756931e-03   3.38673206e-01\n",
      "    2.29152666e-01   4.91465012e-03   3.27771023e-02   3.04023145e-02\n",
      "    1.53313131e+00   1.22073841e-02]\n",
      " [  1.21506996e-02   1.17569614e-01   9.40607201e+00   1.45589068e-01\n",
      "    4.70530649e-02   1.81960562e-01   1.01859186e-03   3.33013191e-01\n",
      "    7.36669834e-03   3.15747854e-01]\n",
      " [  4.57697944e-03   3.71317075e-03   5.56936991e-02   1.36214098e-03\n",
      "    2.64561718e-02   6.85871756e-01   6.52259850e-01   1.50906629e-03\n",
      "    1.58094258e-03   6.45444845e-02]\n",
      " [  2.10826750e-03   5.11691671e-01   1.24928615e+01   7.74372924e-01\n",
      "    2.05783250e-01   3.36555782e+00   4.92337152e-02   9.51958526e-03\n",
      "    3.61285634e-02   3.68653653e-04]] (10, 10)\n"
     ]
    }
   ],
   "source": [
    "m_exp = np.exp(m)\n",
    "print(m_exp, m_exp.shape)"
   ]
  },
  {
   "cell_type": "code",
   "execution_count": 35,
   "metadata": {},
   "outputs": [
    {
     "name": "stdout",
     "output_type": "stream",
     "text": [
      "[[  7.84424863]\n",
      " [  0.71366032]\n",
      " [  0.3860331 ]\n",
      " [  3.96925358]\n",
      " [  1.89344032]\n",
      " [  0.85375168]\n",
      " [  2.75080628]\n",
      " [ 10.56754136]\n",
      " [  1.49756826]\n",
      " [ 17.44762591]] (10, 1)\n"
     ]
    }
   ],
   "source": [
    "m_exp_row_sum = m_exp.sum(axis = 1).reshape(10,1)\n",
    "print(m_exp_row_sum, m_exp_row_sum.shape)"
   ]
  },
  {
   "cell_type": "code",
   "execution_count": 36,
   "metadata": {},
   "outputs": [
    {
     "name": "stdout",
     "output_type": "stream",
     "text": [
      "[[  3.70154514e-03   5.39393933e-02   8.11016135e-01   7.56208500e-03\n",
      "    1.61593877e-03   1.70194798e-02   8.10372783e-02   9.69433198e-06\n",
      "    2.40878882e-02   1.05626072e-05]\n",
      " [  1.38257301e-01   2.49043516e-01   9.42166051e-03   3.55552553e-02\n",
      "    3.80540912e-04   2.92951415e-01   1.23617970e-01   1.37620873e-01\n",
      "    1.62888243e-03   1.15225852e-02]\n",
      " [  3.77098141e-03   1.51989376e-01   2.71813621e-02   2.55742674e-04\n",
      "    1.48676140e-02   2.68851521e-01   2.35059353e-02   8.67254898e-02\n",
      "    4.22650157e-01   2.01820165e-04]\n",
      " [  3.03278394e-01   4.01485022e-04   3.84588857e-04   1.96020885e-04\n",
      "    6.57618748e-01   8.39291749e-04   3.36457352e-04   7.58549005e-05\n",
      "    3.68080865e-02   6.10725217e-05]\n",
      " [  1.06647688e-01   2.57174037e-03   6.49422524e-01   1.48049417e-03\n",
      "    1.86830176e-03   1.88721692e-03   1.78434770e-01   7.94027400e-03\n",
      "    4.02412752e-02   9.50571596e-03]\n",
      " [  3.95075520e-03   7.36282691e-02   6.19817573e-03   5.11164584e-04\n",
      "    4.78079120e-01   2.35856107e-01   6.79340243e-04   1.91589865e-02\n",
      "    1.56475438e-01   2.54626438e-02]\n",
      " [  1.43845974e-01   6.24462971e-02   7.55258311e-04   1.23117796e-01\n",
      "    8.33038182e-02   1.78662167e-03   1.19154528e-02   1.10521467e-02\n",
      "    5.57338888e-01   4.43774766e-03]\n",
      " [  1.14981330e-03   1.11255409e-02   8.90090864e-01   1.37770048e-02\n",
      "    4.45260286e-03   1.72188171e-02   9.63887274e-05   3.15128354e-02\n",
      "    6.97106175e-04   2.98790271e-02]\n",
      " [  3.05627434e-03   2.47946677e-03   3.71894227e-02   9.09568539e-04\n",
      "    1.76660874e-02   4.57990313e-01   4.35545989e-01   1.00767780e-03\n",
      "    1.05567314e-03   4.30995275e-02]\n",
      " [  1.20834061e-04   2.93272950e-02   7.16020708e-01   4.43827102e-02\n",
      "    1.17943410e-02   1.92894887e-01   2.82180025e-03   5.45609203e-04\n",
      "    2.07068650e-03   2.11291585e-05]]\n"
     ]
    }
   ],
   "source": [
    "m_softmax = m_exp / m_exp_row_sum\n",
    "print(m_softmax)"
   ]
  },
  {
   "cell_type": "code",
   "execution_count": 37,
   "metadata": {},
   "outputs": [
    {
     "name": "stdout",
     "output_type": "stream",
     "text": [
      "[ 1.  1.  1.  1.  1.  1.  1.  1.  1.  1.]\n"
     ]
    }
   ],
   "source": [
    "print(m_softmax.sum(axis=1))"
   ]
  },
  {
   "cell_type": "markdown",
   "metadata": {},
   "source": [
    "更多的numpy细节和用法可以查看一下官网[numpy指南](http://docs.scipy.org/doc/numpy/reference/)"
   ]
  }
 ],
 "metadata": {
  "kernelspec": {
   "display_name": "Python 3",
   "language": "python",
   "name": "python3"
  },
  "language_info": {
   "codemirror_mode": {
    "name": "ipython",
    "version": 3
   },
   "file_extension": ".py",
   "mimetype": "text/x-python",
   "name": "python",
   "nbconvert_exporter": "python",
   "pygments_lexer": "ipython3",
   "version": "3.6.1"
  }
 },
 "nbformat": 4,
 "nbformat_minor": 1
}
